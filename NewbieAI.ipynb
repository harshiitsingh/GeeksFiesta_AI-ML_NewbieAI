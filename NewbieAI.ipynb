{
 "cells": [
  {
   "cell_type": "markdown",
   "metadata": {},
   "source": [
    "# DAY-2\n",
    "# TASK-1: Data Cleaning, find count of missing values in each column, describe the dataset (mean,median etc )."
   ]
  },
  {
   "cell_type": "code",
   "execution_count": 1,
   "metadata": {},
   "outputs": [],
   "source": [
    "# importing libraries\n",
    "import numpy as np\n",
    "import pandas as pd"
   ]
  },
  {
   "cell_type": "code",
   "execution_count": 2,
   "metadata": {},
   "outputs": [
    {
     "data": {
      "text/html": [
       "<div>\n",
       "<style scoped>\n",
       "    .dataframe tbody tr th:only-of-type {\n",
       "        vertical-align: middle;\n",
       "    }\n",
       "\n",
       "    .dataframe tbody tr th {\n",
       "        vertical-align: top;\n",
       "    }\n",
       "\n",
       "    .dataframe thead th {\n",
       "        text-align: right;\n",
       "    }\n",
       "</style>\n",
       "<table border=\"1\" class=\"dataframe\">\n",
       "  <thead>\n",
       "    <tr style=\"text-align: right;\">\n",
       "      <th></th>\n",
       "      <th>Unnamed: 0</th>\n",
       "      <th>year</th>\n",
       "      <th>month</th>\n",
       "      <th>day</th>\n",
       "      <th>hour</th>\n",
       "      <th>PM2.5</th>\n",
       "      <th>temperature</th>\n",
       "      <th>pressure</th>\n",
       "      <th>rain</th>\n",
       "      <th>wind_direction</th>\n",
       "      <th>wind_speed</th>\n",
       "    </tr>\n",
       "  </thead>\n",
       "  <tbody>\n",
       "    <tr>\n",
       "      <th>0</th>\n",
       "      <td>0</td>\n",
       "      <td>2013</td>\n",
       "      <td>-37.0</td>\n",
       "      <td>1.0</td>\n",
       "      <td>0.0</td>\n",
       "      <td>4.0</td>\n",
       "      <td>-0.7</td>\n",
       "      <td>102-37</td>\n",
       "      <td>0.0</td>\n",
       "      <td>NNW</td>\n",
       "      <td>4.4</td>\n",
       "    </tr>\n",
       "    <tr>\n",
       "      <th>1</th>\n",
       "      <td>1</td>\n",
       "      <td>201-37</td>\n",
       "      <td>-37.0</td>\n",
       "      <td>1.0</td>\n",
       "      <td>1.0</td>\n",
       "      <td>8.0</td>\n",
       "      <td>-1.1</td>\n",
       "      <td>1023.2</td>\n",
       "      <td>0.0</td>\n",
       "      <td>N</td>\n",
       "      <td>NaN</td>\n",
       "    </tr>\n",
       "    <tr>\n",
       "      <th>2</th>\n",
       "      <td>2</td>\n",
       "      <td>2013</td>\n",
       "      <td>3.0</td>\n",
       "      <td>1.0</td>\n",
       "      <td>2.0</td>\n",
       "      <td>7.0</td>\n",
       "      <td>-1.1</td>\n",
       "      <td>1023.5</td>\n",
       "      <td>0.0</td>\n",
       "      <td>NNW</td>\n",
       "      <td>5.6</td>\n",
       "    </tr>\n",
       "    <tr>\n",
       "      <th>3</th>\n",
       "      <td>3</td>\n",
       "      <td>2013</td>\n",
       "      <td>3.0</td>\n",
       "      <td>1.0</td>\n",
       "      <td>3.0</td>\n",
       "      <td>6.0</td>\n",
       "      <td>-1.4</td>\n",
       "      <td>1024.5</td>\n",
       "      <td>0.0</td>\n",
       "      <td>NW</td>\n",
       "      <td>3.1</td>\n",
       "    </tr>\n",
       "    <tr>\n",
       "      <th>4</th>\n",
       "      <td>4</td>\n",
       "      <td>2013</td>\n",
       "      <td>3.0</td>\n",
       "      <td>1.0</td>\n",
       "      <td>4.0</td>\n",
       "      <td>3.0</td>\n",
       "      <td>-2.0</td>\n",
       "      <td>1025.2</td>\n",
       "      <td>0.0</td>\n",
       "      <td>N</td>\n",
       "      <td>2.0</td>\n",
       "    </tr>\n",
       "  </tbody>\n",
       "</table>\n",
       "</div>"
      ],
      "text/plain": [
       "   Unnamed: 0    year  month  day  hour  PM2.5  temperature pressure  rain  \\\n",
       "0           0    2013  -37.0  1.0   0.0    4.0         -0.7   102-37   0.0   \n",
       "1           1  201-37  -37.0  1.0   1.0    8.0         -1.1   1023.2   0.0   \n",
       "2           2    2013    3.0  1.0   2.0    7.0         -1.1   1023.5   0.0   \n",
       "3           3    2013    3.0  1.0   3.0    6.0         -1.4   1024.5   0.0   \n",
       "4           4    2013    3.0  1.0   4.0    3.0         -2.0   1025.2   0.0   \n",
       "\n",
       "  wind_direction  wind_speed  \n",
       "0            NNW         4.4  \n",
       "1              N         NaN  \n",
       "2            NNW         5.6  \n",
       "3             NW         3.1  \n",
       "4              N         2.0  "
      ]
     },
     "execution_count": 2,
     "metadata": {},
     "output_type": "execute_result"
    }
   ],
   "source": [
    "# url = \"https://docs.google.com/spreadsheets/d/1GcYSfR0ox26Tc-7-8AhLA3Pgx2X1o9IKK-WDL5rDNa4/edit#gid=1426969578\"\n",
    "data = pd.read_csv('train - train (2).csv')\n",
    "data.head()"
   ]
  },
  {
   "cell_type": "code",
   "execution_count": 3,
   "metadata": {},
   "outputs": [
    {
     "data": {
      "text/plain": [
       "(31527, 11)"
      ]
     },
     "execution_count": 3,
     "metadata": {},
     "output_type": "execute_result"
    }
   ],
   "source": [
    "data.shape"
   ]
  },
  {
   "cell_type": "code",
   "execution_count": 4,
   "metadata": {},
   "outputs": [
    {
     "name": "stdout",
     "output_type": "stream",
     "text": [
      "<class 'pandas.core.frame.DataFrame'>\n",
      "RangeIndex: 31527 entries, 0 to 31526\n",
      "Data columns (total 11 columns):\n",
      " #   Column          Non-Null Count  Dtype  \n",
      "---  ------          --------------  -----  \n",
      " 0   Unnamed: 0      31527 non-null  int64  \n",
      " 1   year            31512 non-null  object \n",
      " 2   month           31521 non-null  float64\n",
      " 3   day             31507 non-null  float64\n",
      " 4   hour            31519 non-null  float64\n",
      " 5   PM2.5           31513 non-null  float64\n",
      " 6   temperature     31508 non-null  float64\n",
      " 7   pressure        31500 non-null  object \n",
      " 8   rain            31515 non-null  float64\n",
      " 9   wind_direction  31467 non-null  object \n",
      " 10  wind_speed      31502 non-null  float64\n",
      "dtypes: float64(7), int64(1), object(3)\n",
      "memory usage: 2.6+ MB\n"
     ]
    }
   ],
   "source": [
    "# collecting info about data, how many null or non-null values, what's the data type of the parameters\n",
    "data.info()"
   ]
  },
  {
   "cell_type": "code",
   "execution_count": 5,
   "metadata": {},
   "outputs": [],
   "source": [
    "# data['year'] = data['year'].astype(float)"
   ]
  },
  {
   "cell_type": "code",
   "execution_count": 6,
   "metadata": {},
   "outputs": [
    {
     "data": {
      "text/plain": [
       "Unnamed: 0         0\n",
       "year              15\n",
       "month              6\n",
       "day               20\n",
       "hour               8\n",
       "PM2.5             14\n",
       "temperature       19\n",
       "pressure          27\n",
       "rain              12\n",
       "wind_direction    60\n",
       "wind_speed        25\n",
       "dtype: int64"
      ]
     },
     "execution_count": 6,
     "metadata": {},
     "output_type": "execute_result"
    }
   ],
   "source": [
    "# get the number of missing data points per column\n",
    "data.isnull().sum()"
   ]
  },
  {
   "cell_type": "code",
   "execution_count": 7,
   "metadata": {},
   "outputs": [],
   "source": [
    "newdata = data"
   ]
  },
  {
   "cell_type": "code",
   "execution_count": 8,
   "metadata": {},
   "outputs": [
    {
     "data": {
      "text/html": [
       "<div>\n",
       "<style scoped>\n",
       "    .dataframe tbody tr th:only-of-type {\n",
       "        vertical-align: middle;\n",
       "    }\n",
       "\n",
       "    .dataframe tbody tr th {\n",
       "        vertical-align: top;\n",
       "    }\n",
       "\n",
       "    .dataframe thead th {\n",
       "        text-align: right;\n",
       "    }\n",
       "</style>\n",
       "<table border=\"1\" class=\"dataframe\">\n",
       "  <thead>\n",
       "    <tr style=\"text-align: right;\">\n",
       "      <th></th>\n",
       "      <th>year</th>\n",
       "      <th>month</th>\n",
       "      <th>day</th>\n",
       "      <th>hour</th>\n",
       "      <th>PM2.5</th>\n",
       "      <th>temperature</th>\n",
       "      <th>pressure</th>\n",
       "      <th>rain</th>\n",
       "      <th>wind_direction</th>\n",
       "      <th>wind_speed</th>\n",
       "    </tr>\n",
       "  </thead>\n",
       "  <tbody>\n",
       "    <tr>\n",
       "      <th>0</th>\n",
       "      <td>2013</td>\n",
       "      <td>-37.0</td>\n",
       "      <td>1.0</td>\n",
       "      <td>0.0</td>\n",
       "      <td>4.0</td>\n",
       "      <td>-0.7</td>\n",
       "      <td>102-37</td>\n",
       "      <td>0.0</td>\n",
       "      <td>NNW</td>\n",
       "      <td>4.4</td>\n",
       "    </tr>\n",
       "    <tr>\n",
       "      <th>1</th>\n",
       "      <td>201-37</td>\n",
       "      <td>-37.0</td>\n",
       "      <td>1.0</td>\n",
       "      <td>1.0</td>\n",
       "      <td>8.0</td>\n",
       "      <td>-1.1</td>\n",
       "      <td>1023.2</td>\n",
       "      <td>0.0</td>\n",
       "      <td>N</td>\n",
       "      <td>NaN</td>\n",
       "    </tr>\n",
       "    <tr>\n",
       "      <th>2</th>\n",
       "      <td>2013</td>\n",
       "      <td>3.0</td>\n",
       "      <td>1.0</td>\n",
       "      <td>2.0</td>\n",
       "      <td>7.0</td>\n",
       "      <td>-1.1</td>\n",
       "      <td>1023.5</td>\n",
       "      <td>0.0</td>\n",
       "      <td>NNW</td>\n",
       "      <td>5.6</td>\n",
       "    </tr>\n",
       "    <tr>\n",
       "      <th>3</th>\n",
       "      <td>2013</td>\n",
       "      <td>3.0</td>\n",
       "      <td>1.0</td>\n",
       "      <td>3.0</td>\n",
       "      <td>6.0</td>\n",
       "      <td>-1.4</td>\n",
       "      <td>1024.5</td>\n",
       "      <td>0.0</td>\n",
       "      <td>NW</td>\n",
       "      <td>3.1</td>\n",
       "    </tr>\n",
       "    <tr>\n",
       "      <th>4</th>\n",
       "      <td>2013</td>\n",
       "      <td>3.0</td>\n",
       "      <td>1.0</td>\n",
       "      <td>4.0</td>\n",
       "      <td>3.0</td>\n",
       "      <td>-2.0</td>\n",
       "      <td>1025.2</td>\n",
       "      <td>0.0</td>\n",
       "      <td>N</td>\n",
       "      <td>2.0</td>\n",
       "    </tr>\n",
       "    <tr>\n",
       "      <th>...</th>\n",
       "      <td>...</td>\n",
       "      <td>...</td>\n",
       "      <td>...</td>\n",
       "      <td>...</td>\n",
       "      <td>...</td>\n",
       "      <td>...</td>\n",
       "      <td>...</td>\n",
       "      <td>...</td>\n",
       "      <td>...</td>\n",
       "      <td>...</td>\n",
       "    </tr>\n",
       "    <tr>\n",
       "      <th>31522</th>\n",
       "      <td>2017</td>\n",
       "      <td>2.0</td>\n",
       "      <td>27.0</td>\n",
       "      <td>6.0</td>\n",
       "      <td>80.0</td>\n",
       "      <td>-0.3</td>\n",
       "      <td>1019.4</td>\n",
       "      <td>0.0</td>\n",
       "      <td>ENE</td>\n",
       "      <td>0.8</td>\n",
       "    </tr>\n",
       "    <tr>\n",
       "      <th>31523</th>\n",
       "      <td>2017</td>\n",
       "      <td>2.0</td>\n",
       "      <td>27.0</td>\n",
       "      <td>16.0</td>\n",
       "      <td>75.0</td>\n",
       "      <td>15.9</td>\n",
       "      <td>1014</td>\n",
       "      <td>0.0</td>\n",
       "      <td>SW</td>\n",
       "      <td>2.9</td>\n",
       "    </tr>\n",
       "    <tr>\n",
       "      <th>31524</th>\n",
       "      <td>2017</td>\n",
       "      <td>2.0</td>\n",
       "      <td>27.0</td>\n",
       "      <td>19.0</td>\n",
       "      <td>51.0</td>\n",
       "      <td>11.5</td>\n",
       "      <td>1014.1</td>\n",
       "      <td>0.0</td>\n",
       "      <td>SSW</td>\n",
       "      <td>1.0</td>\n",
       "    </tr>\n",
       "    <tr>\n",
       "      <th>31525</th>\n",
       "      <td>2017</td>\n",
       "      <td>2.0</td>\n",
       "      <td>28.0</td>\n",
       "      <td>2.0</td>\n",
       "      <td>9.0</td>\n",
       "      <td>8.6</td>\n",
       "      <td>1016</td>\n",
       "      <td>0.0</td>\n",
       "      <td>NNE</td>\n",
       "      <td>0.9</td>\n",
       "    </tr>\n",
       "    <tr>\n",
       "      <th>31526</th>\n",
       "      <td>2017</td>\n",
       "      <td>2.0</td>\n",
       "      <td>28.0</td>\n",
       "      <td>14.0</td>\n",
       "      <td>5.0</td>\n",
       "      <td>14.6</td>\n",
       "      <td>1013.3</td>\n",
       "      <td>0.0</td>\n",
       "      <td>N</td>\n",
       "      <td>3.6</td>\n",
       "    </tr>\n",
       "  </tbody>\n",
       "</table>\n",
       "<p>31527 rows × 10 columns</p>\n",
       "</div>"
      ],
      "text/plain": [
       "         year  month   day  hour  PM2.5  temperature pressure  rain  \\\n",
       "0        2013  -37.0   1.0   0.0    4.0         -0.7   102-37   0.0   \n",
       "1      201-37  -37.0   1.0   1.0    8.0         -1.1   1023.2   0.0   \n",
       "2        2013    3.0   1.0   2.0    7.0         -1.1   1023.5   0.0   \n",
       "3        2013    3.0   1.0   3.0    6.0         -1.4   1024.5   0.0   \n",
       "4        2013    3.0   1.0   4.0    3.0         -2.0   1025.2   0.0   \n",
       "...       ...    ...   ...   ...    ...          ...      ...   ...   \n",
       "31522    2017    2.0  27.0   6.0   80.0         -0.3   1019.4   0.0   \n",
       "31523    2017    2.0  27.0  16.0   75.0         15.9     1014   0.0   \n",
       "31524    2017    2.0  27.0  19.0   51.0         11.5   1014.1   0.0   \n",
       "31525    2017    2.0  28.0   2.0    9.0          8.6     1016   0.0   \n",
       "31526    2017    2.0  28.0  14.0    5.0         14.6   1013.3   0.0   \n",
       "\n",
       "      wind_direction  wind_speed  \n",
       "0                NNW         4.4  \n",
       "1                  N         NaN  \n",
       "2                NNW         5.6  \n",
       "3                 NW         3.1  \n",
       "4                  N         2.0  \n",
       "...              ...         ...  \n",
       "31522            ENE         0.8  \n",
       "31523             SW         2.9  \n",
       "31524            SSW         1.0  \n",
       "31525            NNE         0.9  \n",
       "31526              N         3.6  \n",
       "\n",
       "[31527 rows x 10 columns]"
      ]
     },
     "execution_count": 8,
     "metadata": {},
     "output_type": "execute_result"
    }
   ],
   "source": [
    "# removing the unnamed column because it has no use in the problem\n",
    "newdata.drop(\"Unnamed: 0\", axis = 1, inplace=True)\n",
    "newdata"
   ]
  },
  {
   "cell_type": "markdown",
   "metadata": {},
   "source": [
    "### Correcting and cleaning the column - year"
   ]
  },
  {
   "cell_type": "code",
   "execution_count": 9,
   "metadata": {},
   "outputs": [
    {
     "data": {
      "text/plain": [
       "15"
      ]
     },
     "execution_count": 9,
     "metadata": {},
     "output_type": "execute_result"
    }
   ],
   "source": [
    "newdata.loc[1,'year'] = 2013  # Here I have corrected the wrong data given at row1 in the year column.\n",
    "\n",
    "data['year'] = pd.to_numeric(data['year']) # as from above info function, the year has object datatype \n",
    "# but its not  possible so I have changed it to float.\n",
    "\n",
    "newdata['year'].isnull().sum() # now again checking the null values in year"
   ]
  },
  {
   "cell_type": "code",
   "execution_count": 10,
   "metadata": {},
   "outputs": [
    {
     "data": {
      "text/plain": [
       "0"
      ]
     },
     "execution_count": 10,
     "metadata": {},
     "output_type": "execute_result"
    }
   ],
   "source": [
    "newdata['year'].interpolate(method='linear', direction='both', inplace=True) # as there are 15 null values, therefore\n",
    "# I am interpolating them.\n",
    "\n",
    "newdata['year'].isnull().sum()\n",
    "\n",
    "# or\n",
    "# newdata['year'].select_dtypes(include='int64').interpolate(method='linear', direction='both', inplace=True)"
   ]
  },
  {
   "cell_type": "markdown",
   "metadata": {},
   "source": [
    "### Correcting and cleaning the column - rain"
   ]
  },
  {
   "cell_type": "code",
   "execution_count": 11,
   "metadata": {},
   "outputs": [],
   "source": [
    "# using interpolation method to fill the NAN values, it will fill by finding the mean of just one above and one below data.\n",
    "newdata['rain'].interpolate(method='linear', direction='both', inplace=True)"
   ]
  },
  {
   "cell_type": "markdown",
   "metadata": {},
   "source": [
    "### Correcting and cleaning the column - pressure"
   ]
  },
  {
   "cell_type": "code",
   "execution_count": 12,
   "metadata": {},
   "outputs": [
    {
     "data": {
      "text/plain": [
       "0"
      ]
     },
     "execution_count": 12,
     "metadata": {},
     "output_type": "execute_result"
    }
   ],
   "source": [
    "newdata.loc[0,'pressure'] = 1023.7\n",
    "data['pressure'] = pd.to_numeric(data['pressure'])\n",
    "\n",
    "\n",
    "newdata['pressure'].interpolate(method='linear', direction='both', inplace=True)\n",
    "newdata['pressure'].isnull().sum()"
   ]
  },
  {
   "cell_type": "markdown",
   "metadata": {},
   "source": [
    "**Similarly for other parameters we are correcting and filling the null values**"
   ]
  },
  {
   "cell_type": "code",
   "execution_count": 13,
   "metadata": {},
   "outputs": [],
   "source": [
    "newdata.loc[0,'month'] = 3\n",
    "newdata.loc[1,'month'] = 3\n",
    "newdata['month'].interpolate(method='linear', direction='both', inplace=True)\n",
    "\n",
    "\n",
    "newdata['day'].interpolate(method='linear', direction='both', inplace=True)\n",
    "newdata['hour'].interpolate(method='linear', direction='both', inplace=True)\n",
    "newdata['PM2.5'].interpolate(method='linear', direction='both', inplace=True)\n",
    "newdata['temperature'].interpolate(method='linear', direction='both', inplace=True)\n",
    "newdata['wind_speed'].interpolate(method='linear', direction='both', inplace=True)"
   ]
  },
  {
   "cell_type": "code",
   "execution_count": 14,
   "metadata": {},
   "outputs": [
    {
     "name": "stdout",
     "output_type": "stream",
     "text": [
      "<class 'pandas.core.frame.DataFrame'>\n",
      "RangeIndex: 31527 entries, 0 to 31526\n",
      "Data columns (total 10 columns):\n",
      " #   Column          Non-Null Count  Dtype  \n",
      "---  ------          --------------  -----  \n",
      " 0   year            31527 non-null  float64\n",
      " 1   month           31527 non-null  float64\n",
      " 2   day             31527 non-null  float64\n",
      " 3   hour            31527 non-null  float64\n",
      " 4   PM2.5           31527 non-null  float64\n",
      " 5   temperature     31527 non-null  float64\n",
      " 6   pressure        31527 non-null  float64\n",
      " 7   rain            31527 non-null  float64\n",
      " 8   wind_direction  31467 non-null  object \n",
      " 9   wind_speed      31527 non-null  float64\n",
      "dtypes: float64(9), object(1)\n",
      "memory usage: 2.4+ MB\n"
     ]
    }
   ],
   "source": [
    "newdata.info()"
   ]
  },
  {
   "cell_type": "markdown",
   "metadata": {},
   "source": [
    "**So finally we have change the Dtype of parameter to their correct type.**"
   ]
  },
  {
   "cell_type": "code",
   "execution_count": 15,
   "metadata": {},
   "outputs": [
    {
     "data": {
      "text/plain": [
       "year               0\n",
       "month              0\n",
       "day                0\n",
       "hour               0\n",
       "PM2.5              0\n",
       "temperature        0\n",
       "pressure           0\n",
       "rain               0\n",
       "wind_direction    60\n",
       "wind_speed         0\n",
       "dtype: int64"
      ]
     },
     "execution_count": 15,
     "metadata": {},
     "output_type": "execute_result"
    }
   ],
   "source": [
    "newdata.isna().sum()"
   ]
  },
  {
   "cell_type": "markdown",
   "metadata": {},
   "source": [
    "**And also we have filled and clean the wrong and null values.**"
   ]
  },
  {
   "cell_type": "code",
   "execution_count": 16,
   "metadata": {},
   "outputs": [
    {
     "data": {
      "text/html": [
       "<div>\n",
       "<style scoped>\n",
       "    .dataframe tbody tr th:only-of-type {\n",
       "        vertical-align: middle;\n",
       "    }\n",
       "\n",
       "    .dataframe tbody tr th {\n",
       "        vertical-align: top;\n",
       "    }\n",
       "\n",
       "    .dataframe thead th {\n",
       "        text-align: right;\n",
       "    }\n",
       "</style>\n",
       "<table border=\"1\" class=\"dataframe\">\n",
       "  <thead>\n",
       "    <tr style=\"text-align: right;\">\n",
       "      <th></th>\n",
       "      <th>year</th>\n",
       "      <th>month</th>\n",
       "      <th>day</th>\n",
       "      <th>hour</th>\n",
       "      <th>PM2.5</th>\n",
       "      <th>temperature</th>\n",
       "      <th>pressure</th>\n",
       "      <th>rain</th>\n",
       "      <th>wind_direction</th>\n",
       "      <th>wind_speed</th>\n",
       "    </tr>\n",
       "  </thead>\n",
       "  <tbody>\n",
       "    <tr>\n",
       "      <th>0</th>\n",
       "      <td>2013.0</td>\n",
       "      <td>3.0</td>\n",
       "      <td>1.0</td>\n",
       "      <td>0.0</td>\n",
       "      <td>4.0</td>\n",
       "      <td>-0.7</td>\n",
       "      <td>1023.7</td>\n",
       "      <td>0.0</td>\n",
       "      <td>NNW</td>\n",
       "      <td>4.4</td>\n",
       "    </tr>\n",
       "    <tr>\n",
       "      <th>1</th>\n",
       "      <td>2013.0</td>\n",
       "      <td>3.0</td>\n",
       "      <td>1.0</td>\n",
       "      <td>1.0</td>\n",
       "      <td>8.0</td>\n",
       "      <td>-1.1</td>\n",
       "      <td>1023.2</td>\n",
       "      <td>0.0</td>\n",
       "      <td>N</td>\n",
       "      <td>5.0</td>\n",
       "    </tr>\n",
       "    <tr>\n",
       "      <th>2</th>\n",
       "      <td>2013.0</td>\n",
       "      <td>3.0</td>\n",
       "      <td>1.0</td>\n",
       "      <td>2.0</td>\n",
       "      <td>7.0</td>\n",
       "      <td>-1.1</td>\n",
       "      <td>1023.5</td>\n",
       "      <td>0.0</td>\n",
       "      <td>NNW</td>\n",
       "      <td>5.6</td>\n",
       "    </tr>\n",
       "    <tr>\n",
       "      <th>3</th>\n",
       "      <td>2013.0</td>\n",
       "      <td>3.0</td>\n",
       "      <td>1.0</td>\n",
       "      <td>3.0</td>\n",
       "      <td>6.0</td>\n",
       "      <td>-1.4</td>\n",
       "      <td>1024.5</td>\n",
       "      <td>0.0</td>\n",
       "      <td>NW</td>\n",
       "      <td>3.1</td>\n",
       "    </tr>\n",
       "    <tr>\n",
       "      <th>4</th>\n",
       "      <td>2013.0</td>\n",
       "      <td>3.0</td>\n",
       "      <td>1.0</td>\n",
       "      <td>4.0</td>\n",
       "      <td>3.0</td>\n",
       "      <td>-2.0</td>\n",
       "      <td>1025.2</td>\n",
       "      <td>0.0</td>\n",
       "      <td>N</td>\n",
       "      <td>2.0</td>\n",
       "    </tr>\n",
       "    <tr>\n",
       "      <th>...</th>\n",
       "      <td>...</td>\n",
       "      <td>...</td>\n",
       "      <td>...</td>\n",
       "      <td>...</td>\n",
       "      <td>...</td>\n",
       "      <td>...</td>\n",
       "      <td>...</td>\n",
       "      <td>...</td>\n",
       "      <td>...</td>\n",
       "      <td>...</td>\n",
       "    </tr>\n",
       "    <tr>\n",
       "      <th>31522</th>\n",
       "      <td>2017.0</td>\n",
       "      <td>2.0</td>\n",
       "      <td>27.0</td>\n",
       "      <td>6.0</td>\n",
       "      <td>80.0</td>\n",
       "      <td>-0.3</td>\n",
       "      <td>1019.4</td>\n",
       "      <td>0.0</td>\n",
       "      <td>ENE</td>\n",
       "      <td>0.8</td>\n",
       "    </tr>\n",
       "    <tr>\n",
       "      <th>31523</th>\n",
       "      <td>2017.0</td>\n",
       "      <td>2.0</td>\n",
       "      <td>27.0</td>\n",
       "      <td>16.0</td>\n",
       "      <td>75.0</td>\n",
       "      <td>15.9</td>\n",
       "      <td>1014.0</td>\n",
       "      <td>0.0</td>\n",
       "      <td>SW</td>\n",
       "      <td>2.9</td>\n",
       "    </tr>\n",
       "    <tr>\n",
       "      <th>31524</th>\n",
       "      <td>2017.0</td>\n",
       "      <td>2.0</td>\n",
       "      <td>27.0</td>\n",
       "      <td>19.0</td>\n",
       "      <td>51.0</td>\n",
       "      <td>11.5</td>\n",
       "      <td>1014.1</td>\n",
       "      <td>0.0</td>\n",
       "      <td>SSW</td>\n",
       "      <td>1.0</td>\n",
       "    </tr>\n",
       "    <tr>\n",
       "      <th>31525</th>\n",
       "      <td>2017.0</td>\n",
       "      <td>2.0</td>\n",
       "      <td>28.0</td>\n",
       "      <td>2.0</td>\n",
       "      <td>9.0</td>\n",
       "      <td>8.6</td>\n",
       "      <td>1016.0</td>\n",
       "      <td>0.0</td>\n",
       "      <td>NNE</td>\n",
       "      <td>0.9</td>\n",
       "    </tr>\n",
       "    <tr>\n",
       "      <th>31526</th>\n",
       "      <td>2017.0</td>\n",
       "      <td>2.0</td>\n",
       "      <td>28.0</td>\n",
       "      <td>14.0</td>\n",
       "      <td>5.0</td>\n",
       "      <td>14.6</td>\n",
       "      <td>1013.3</td>\n",
       "      <td>0.0</td>\n",
       "      <td>N</td>\n",
       "      <td>3.6</td>\n",
       "    </tr>\n",
       "  </tbody>\n",
       "</table>\n",
       "<p>31527 rows × 10 columns</p>\n",
       "</div>"
      ],
      "text/plain": [
       "         year  month   day  hour  PM2.5  temperature  pressure  rain  \\\n",
       "0      2013.0    3.0   1.0   0.0    4.0         -0.7    1023.7   0.0   \n",
       "1      2013.0    3.0   1.0   1.0    8.0         -1.1    1023.2   0.0   \n",
       "2      2013.0    3.0   1.0   2.0    7.0         -1.1    1023.5   0.0   \n",
       "3      2013.0    3.0   1.0   3.0    6.0         -1.4    1024.5   0.0   \n",
       "4      2013.0    3.0   1.0   4.0    3.0         -2.0    1025.2   0.0   \n",
       "...       ...    ...   ...   ...    ...          ...       ...   ...   \n",
       "31522  2017.0    2.0  27.0   6.0   80.0         -0.3    1019.4   0.0   \n",
       "31523  2017.0    2.0  27.0  16.0   75.0         15.9    1014.0   0.0   \n",
       "31524  2017.0    2.0  27.0  19.0   51.0         11.5    1014.1   0.0   \n",
       "31525  2017.0    2.0  28.0   2.0    9.0          8.6    1016.0   0.0   \n",
       "31526  2017.0    2.0  28.0  14.0    5.0         14.6    1013.3   0.0   \n",
       "\n",
       "      wind_direction  wind_speed  \n",
       "0                NNW         4.4  \n",
       "1                  N         5.0  \n",
       "2                NNW         5.6  \n",
       "3                 NW         3.1  \n",
       "4                  N         2.0  \n",
       "...              ...         ...  \n",
       "31522            ENE         0.8  \n",
       "31523             SW         2.9  \n",
       "31524            SSW         1.0  \n",
       "31525            NNE         0.9  \n",
       "31526              N         3.6  \n",
       "\n",
       "[31527 rows x 10 columns]"
      ]
     },
     "execution_count": 16,
     "metadata": {},
     "output_type": "execute_result"
    }
   ],
   "source": [
    "newdata"
   ]
  },
  {
   "cell_type": "markdown",
   "metadata": {},
   "source": [
    "## Describing the data"
   ]
  },
  {
   "cell_type": "code",
   "execution_count": 17,
   "metadata": {},
   "outputs": [
    {
     "data": {
      "text/html": [
       "<div>\n",
       "<style scoped>\n",
       "    .dataframe tbody tr th:only-of-type {\n",
       "        vertical-align: middle;\n",
       "    }\n",
       "\n",
       "    .dataframe tbody tr th {\n",
       "        vertical-align: top;\n",
       "    }\n",
       "\n",
       "    .dataframe thead th {\n",
       "        text-align: right;\n",
       "    }\n",
       "</style>\n",
       "<table border=\"1\" class=\"dataframe\">\n",
       "  <thead>\n",
       "    <tr style=\"text-align: right;\">\n",
       "      <th></th>\n",
       "      <th>year</th>\n",
       "      <th>month</th>\n",
       "      <th>day</th>\n",
       "      <th>hour</th>\n",
       "      <th>PM2.5</th>\n",
       "      <th>temperature</th>\n",
       "      <th>pressure</th>\n",
       "      <th>rain</th>\n",
       "      <th>wind_speed</th>\n",
       "    </tr>\n",
       "  </thead>\n",
       "  <tbody>\n",
       "    <tr>\n",
       "      <th>count</th>\n",
       "      <td>31527.000000</td>\n",
       "      <td>31527.000000</td>\n",
       "      <td>31527.000000</td>\n",
       "      <td>31527.000000</td>\n",
       "      <td>3.152700e+04</td>\n",
       "      <td>31527.000000</td>\n",
       "      <td>31527.000000</td>\n",
       "      <td>31527.000000</td>\n",
       "      <td>31527.000000</td>\n",
       "    </tr>\n",
       "    <tr>\n",
       "      <th>mean</th>\n",
       "      <td>2014.516827</td>\n",
       "      <td>6.453167</td>\n",
       "      <td>15.411076</td>\n",
       "      <td>11.287785</td>\n",
       "      <td>2.094761e+03</td>\n",
       "      <td>14.354617</td>\n",
       "      <td>1010.804234</td>\n",
       "      <td>0.071716</td>\n",
       "      <td>1.697326</td>\n",
       "    </tr>\n",
       "    <tr>\n",
       "      <th>std</th>\n",
       "      <td>1.105097</td>\n",
       "      <td>3.309035</td>\n",
       "      <td>33.130093</td>\n",
       "      <td>37.122567</td>\n",
       "      <td>3.574293e+05</td>\n",
       "      <td>11.297708</td>\n",
       "      <td>38.859120</td>\n",
       "      <td>0.949540</td>\n",
       "      <td>1.338809</td>\n",
       "    </tr>\n",
       "    <tr>\n",
       "      <th>min</th>\n",
       "      <td>2013.000000</td>\n",
       "      <td>1.000000</td>\n",
       "      <td>-5656.000000</td>\n",
       "      <td>-6464.000000</td>\n",
       "      <td>3.000000e+00</td>\n",
       "      <td>-16.800000</td>\n",
       "      <td>-5646.000000</td>\n",
       "      <td>0.000000</td>\n",
       "      <td>-79.000000</td>\n",
       "    </tr>\n",
       "    <tr>\n",
       "      <th>25%</th>\n",
       "      <td>2014.000000</td>\n",
       "      <td>4.000000</td>\n",
       "      <td>8.000000</td>\n",
       "      <td>5.000000</td>\n",
       "      <td>2.300000e+01</td>\n",
       "      <td>4.300000</td>\n",
       "      <td>1002.700000</td>\n",
       "      <td>0.000000</td>\n",
       "      <td>0.900000</td>\n",
       "    </tr>\n",
       "    <tr>\n",
       "      <th>50%</th>\n",
       "      <td>2015.000000</td>\n",
       "      <td>6.000000</td>\n",
       "      <td>15.000000</td>\n",
       "      <td>11.000000</td>\n",
       "      <td>5.800000e+01</td>\n",
       "      <td>15.800000</td>\n",
       "      <td>1010.300000</td>\n",
       "      <td>0.000000</td>\n",
       "      <td>1.400000</td>\n",
       "    </tr>\n",
       "    <tr>\n",
       "      <th>75%</th>\n",
       "      <td>2015.000000</td>\n",
       "      <td>9.000000</td>\n",
       "      <td>23.000000</td>\n",
       "      <td>18.000000</td>\n",
       "      <td>1.130000e+02</td>\n",
       "      <td>23.700000</td>\n",
       "      <td>1019.000000</td>\n",
       "      <td>0.000000</td>\n",
       "      <td>2.200000</td>\n",
       "    </tr>\n",
       "    <tr>\n",
       "      <th>max</th>\n",
       "      <td>2017.000000</td>\n",
       "      <td>12.000000</td>\n",
       "      <td>31.000000</td>\n",
       "      <td>23.000000</td>\n",
       "      <td>6.346466e+07</td>\n",
       "      <td>40.500000</td>\n",
       "      <td>1042.000000</td>\n",
       "      <td>72.500000</td>\n",
       "      <td>11.200000</td>\n",
       "    </tr>\n",
       "  </tbody>\n",
       "</table>\n",
       "</div>"
      ],
      "text/plain": [
       "               year         month           day          hour         PM2.5  \\\n",
       "count  31527.000000  31527.000000  31527.000000  31527.000000  3.152700e+04   \n",
       "mean    2014.516827      6.453167     15.411076     11.287785  2.094761e+03   \n",
       "std        1.105097      3.309035     33.130093     37.122567  3.574293e+05   \n",
       "min     2013.000000      1.000000  -5656.000000  -6464.000000  3.000000e+00   \n",
       "25%     2014.000000      4.000000      8.000000      5.000000  2.300000e+01   \n",
       "50%     2015.000000      6.000000     15.000000     11.000000  5.800000e+01   \n",
       "75%     2015.000000      9.000000     23.000000     18.000000  1.130000e+02   \n",
       "max     2017.000000     12.000000     31.000000     23.000000  6.346466e+07   \n",
       "\n",
       "        temperature      pressure          rain    wind_speed  \n",
       "count  31527.000000  31527.000000  31527.000000  31527.000000  \n",
       "mean      14.354617   1010.804234      0.071716      1.697326  \n",
       "std       11.297708     38.859120      0.949540      1.338809  \n",
       "min      -16.800000  -5646.000000      0.000000    -79.000000  \n",
       "25%        4.300000   1002.700000      0.000000      0.900000  \n",
       "50%       15.800000   1010.300000      0.000000      1.400000  \n",
       "75%       23.700000   1019.000000      0.000000      2.200000  \n",
       "max       40.500000   1042.000000     72.500000     11.200000  "
      ]
     },
     "execution_count": 17,
     "metadata": {},
     "output_type": "execute_result"
    }
   ],
   "source": [
    "newdata.describe()\n",
    "# from this method we can find mean of each data, standard deviation, minimum and maximum values and percentiles.\n",
    "# (Percentiles give you a number that describes the value that a given percent of the values are lower than.)"
   ]
  },
  {
   "cell_type": "markdown",
   "metadata": {},
   "source": [
    "### Finding median of each parameter"
   ]
  },
  {
   "cell_type": "code",
   "execution_count": 18,
   "metadata": {},
   "outputs": [
    {
     "name": "stdout",
     "output_type": "stream",
     "text": [
      "year_median = 2015.0\n",
      "month_median = 6.0\n",
      "day_median = 15.0\n",
      "hour_median =  11.0\n",
      "PM2.5_median = 58.0\n",
      "temperature_median = 15.8\n",
      "pressure_median = 1010.3\n",
      "rain_median = 0.0\n",
      "wind_speed_median = 1.4\n"
     ]
    }
   ],
   "source": [
    "print(\"year_median =\", np.median(newdata['year']))\n",
    "print(\"month_median =\", np.median(newdata['month']))\n",
    "print(\"day_median =\", np.median(newdata['day']))\n",
    "print(\"hour_median = \", np.median(newdata['hour']))\n",
    "print(\"PM2.5_median =\", np.median(newdata['PM2.5']))\n",
    "print(\"temperature_median =\", np.median(newdata['temperature']))\n",
    "print(\"pressure_median =\", np.median(newdata['pressure']))\n",
    "print(\"rain_median =\", np.median(newdata['rain']))\n",
    "print(\"wind_speed_median =\", np.median(newdata['wind_speed']))"
   ]
  },
  {
   "cell_type": "markdown",
   "metadata": {},
   "source": [
    "### Finding Mode"
   ]
  },
  {
   "cell_type": "code",
   "execution_count": 19,
   "metadata": {},
   "outputs": [
    {
     "name": "stdout",
     "output_type": "stream",
     "text": [
      "year_mode = ModeResult(mode=array([2015.]), count=array([8544]))\n",
      "month_mode = ModeResult(mode=array([5.]), count=array([2954]))\n",
      "day_mode = ModeResult(mode=array([4.]), count=array([1069]))\n",
      "hour_mode =  ModeResult(mode=array([5.]), count=array([1335]))\n",
      "PM2.5_mode = ModeResult(mode=array([9.]), count=array([538]))\n",
      "temperature_mode = ModeResult(mode=array([3.]), count=array([237]))\n",
      "pressure_mode = ModeResult(mode=array([1019.]), count=array([216]))\n",
      "rain_mode = ModeResult(mode=array([0.]), count=array([30217]))\n",
      "wind_direction_mode = ModeResult(mode=array(['NE'], dtype=object), count=array([4465]))\n",
      "wind_speed_mode = ModeResult(mode=array([1.2]), count=array([1681]))\n"
     ]
    }
   ],
   "source": [
    "from scipy import stats\n",
    "print(\"year_mode =\", stats.mode(newdata['year']))\n",
    "print(\"month_mode =\", stats.mode(newdata['month']))\n",
    "print(\"day_mode =\", stats.mode(newdata['day']))\n",
    "print(\"hour_mode = \", stats.mode(newdata['hour']))\n",
    "print(\"PM2.5_mode =\", stats.mode(newdata['PM2.5']))\n",
    "print(\"temperature_mode =\", stats.mode(newdata['temperature']))\n",
    "print(\"pressure_mode =\", stats.mode(newdata['pressure']))\n",
    "print(\"rain_mode =\", stats.mode(newdata['rain']))\n",
    "print(\"wind_direction_mode =\", stats.mode(newdata['wind_direction']))\n",
    "print(\"wind_speed_mode =\", stats.mode(newdata['wind_speed']))"
   ]
  },
  {
   "cell_type": "markdown",
   "metadata": {},
   "source": [
    "## Now, as wind_direction has still null values and its Dtype is object. Also from mode value of wind_direction we can see that it has NE as most repeated.\n",
    "## So let's fill the null values with NE using fillna method."
   ]
  },
  {
   "cell_type": "code",
   "execution_count": 20,
   "metadata": {},
   "outputs": [],
   "source": [
    "newdata['wind_direction'].fillna(\"NE\", inplace=True)\n",
    "# newdata['wind_direction'].interpolate(method='linear', direction='both', inplace=True)"
   ]
  },
  {
   "cell_type": "code",
   "execution_count": 21,
   "metadata": {},
   "outputs": [
    {
     "data": {
      "text/plain": [
       "year              0\n",
       "month             0\n",
       "day               0\n",
       "hour              0\n",
       "PM2.5             0\n",
       "temperature       0\n",
       "pressure          0\n",
       "rain              0\n",
       "wind_direction    0\n",
       "wind_speed        0\n",
       "dtype: int64"
      ]
     },
     "execution_count": 21,
     "metadata": {},
     "output_type": "execute_result"
    }
   ],
   "source": [
    "newdata.isnull().sum()"
   ]
  },
  {
   "cell_type": "markdown",
   "metadata": {},
   "source": [
    "# So finally our dataset is cleaned and corrected."
   ]
  },
  {
   "cell_type": "code",
   "execution_count": 22,
   "metadata": {},
   "outputs": [
    {
     "data": {
      "text/html": [
       "<div>\n",
       "<style scoped>\n",
       "    .dataframe tbody tr th:only-of-type {\n",
       "        vertical-align: middle;\n",
       "    }\n",
       "\n",
       "    .dataframe tbody tr th {\n",
       "        vertical-align: top;\n",
       "    }\n",
       "\n",
       "    .dataframe thead th {\n",
       "        text-align: right;\n",
       "    }\n",
       "</style>\n",
       "<table border=\"1\" class=\"dataframe\">\n",
       "  <thead>\n",
       "    <tr style=\"text-align: right;\">\n",
       "      <th></th>\n",
       "      <th>year</th>\n",
       "      <th>month</th>\n",
       "      <th>day</th>\n",
       "      <th>hour</th>\n",
       "      <th>PM2.5</th>\n",
       "      <th>temperature</th>\n",
       "      <th>pressure</th>\n",
       "      <th>rain</th>\n",
       "      <th>wind_direction</th>\n",
       "      <th>wind_speed</th>\n",
       "    </tr>\n",
       "  </thead>\n",
       "  <tbody>\n",
       "    <tr>\n",
       "      <th>0</th>\n",
       "      <td>2013.0</td>\n",
       "      <td>3.0</td>\n",
       "      <td>1.0</td>\n",
       "      <td>0.0</td>\n",
       "      <td>4.0</td>\n",
       "      <td>-0.7</td>\n",
       "      <td>1023.7</td>\n",
       "      <td>0.0</td>\n",
       "      <td>NNW</td>\n",
       "      <td>4.4</td>\n",
       "    </tr>\n",
       "    <tr>\n",
       "      <th>1</th>\n",
       "      <td>2013.0</td>\n",
       "      <td>3.0</td>\n",
       "      <td>1.0</td>\n",
       "      <td>1.0</td>\n",
       "      <td>8.0</td>\n",
       "      <td>-1.1</td>\n",
       "      <td>1023.2</td>\n",
       "      <td>0.0</td>\n",
       "      <td>N</td>\n",
       "      <td>5.0</td>\n",
       "    </tr>\n",
       "    <tr>\n",
       "      <th>2</th>\n",
       "      <td>2013.0</td>\n",
       "      <td>3.0</td>\n",
       "      <td>1.0</td>\n",
       "      <td>2.0</td>\n",
       "      <td>7.0</td>\n",
       "      <td>-1.1</td>\n",
       "      <td>1023.5</td>\n",
       "      <td>0.0</td>\n",
       "      <td>NNW</td>\n",
       "      <td>5.6</td>\n",
       "    </tr>\n",
       "    <tr>\n",
       "      <th>3</th>\n",
       "      <td>2013.0</td>\n",
       "      <td>3.0</td>\n",
       "      <td>1.0</td>\n",
       "      <td>3.0</td>\n",
       "      <td>6.0</td>\n",
       "      <td>-1.4</td>\n",
       "      <td>1024.5</td>\n",
       "      <td>0.0</td>\n",
       "      <td>NW</td>\n",
       "      <td>3.1</td>\n",
       "    </tr>\n",
       "    <tr>\n",
       "      <th>4</th>\n",
       "      <td>2013.0</td>\n",
       "      <td>3.0</td>\n",
       "      <td>1.0</td>\n",
       "      <td>4.0</td>\n",
       "      <td>3.0</td>\n",
       "      <td>-2.0</td>\n",
       "      <td>1025.2</td>\n",
       "      <td>0.0</td>\n",
       "      <td>N</td>\n",
       "      <td>2.0</td>\n",
       "    </tr>\n",
       "    <tr>\n",
       "      <th>...</th>\n",
       "      <td>...</td>\n",
       "      <td>...</td>\n",
       "      <td>...</td>\n",
       "      <td>...</td>\n",
       "      <td>...</td>\n",
       "      <td>...</td>\n",
       "      <td>...</td>\n",
       "      <td>...</td>\n",
       "      <td>...</td>\n",
       "      <td>...</td>\n",
       "    </tr>\n",
       "    <tr>\n",
       "      <th>31522</th>\n",
       "      <td>2017.0</td>\n",
       "      <td>2.0</td>\n",
       "      <td>27.0</td>\n",
       "      <td>6.0</td>\n",
       "      <td>80.0</td>\n",
       "      <td>-0.3</td>\n",
       "      <td>1019.4</td>\n",
       "      <td>0.0</td>\n",
       "      <td>ENE</td>\n",
       "      <td>0.8</td>\n",
       "    </tr>\n",
       "    <tr>\n",
       "      <th>31523</th>\n",
       "      <td>2017.0</td>\n",
       "      <td>2.0</td>\n",
       "      <td>27.0</td>\n",
       "      <td>16.0</td>\n",
       "      <td>75.0</td>\n",
       "      <td>15.9</td>\n",
       "      <td>1014.0</td>\n",
       "      <td>0.0</td>\n",
       "      <td>SW</td>\n",
       "      <td>2.9</td>\n",
       "    </tr>\n",
       "    <tr>\n",
       "      <th>31524</th>\n",
       "      <td>2017.0</td>\n",
       "      <td>2.0</td>\n",
       "      <td>27.0</td>\n",
       "      <td>19.0</td>\n",
       "      <td>51.0</td>\n",
       "      <td>11.5</td>\n",
       "      <td>1014.1</td>\n",
       "      <td>0.0</td>\n",
       "      <td>SSW</td>\n",
       "      <td>1.0</td>\n",
       "    </tr>\n",
       "    <tr>\n",
       "      <th>31525</th>\n",
       "      <td>2017.0</td>\n",
       "      <td>2.0</td>\n",
       "      <td>28.0</td>\n",
       "      <td>2.0</td>\n",
       "      <td>9.0</td>\n",
       "      <td>8.6</td>\n",
       "      <td>1016.0</td>\n",
       "      <td>0.0</td>\n",
       "      <td>NNE</td>\n",
       "      <td>0.9</td>\n",
       "    </tr>\n",
       "    <tr>\n",
       "      <th>31526</th>\n",
       "      <td>2017.0</td>\n",
       "      <td>2.0</td>\n",
       "      <td>28.0</td>\n",
       "      <td>14.0</td>\n",
       "      <td>5.0</td>\n",
       "      <td>14.6</td>\n",
       "      <td>1013.3</td>\n",
       "      <td>0.0</td>\n",
       "      <td>N</td>\n",
       "      <td>3.6</td>\n",
       "    </tr>\n",
       "  </tbody>\n",
       "</table>\n",
       "<p>31527 rows × 10 columns</p>\n",
       "</div>"
      ],
      "text/plain": [
       "         year  month   day  hour  PM2.5  temperature  pressure  rain  \\\n",
       "0      2013.0    3.0   1.0   0.0    4.0         -0.7    1023.7   0.0   \n",
       "1      2013.0    3.0   1.0   1.0    8.0         -1.1    1023.2   0.0   \n",
       "2      2013.0    3.0   1.0   2.0    7.0         -1.1    1023.5   0.0   \n",
       "3      2013.0    3.0   1.0   3.0    6.0         -1.4    1024.5   0.0   \n",
       "4      2013.0    3.0   1.0   4.0    3.0         -2.0    1025.2   0.0   \n",
       "...       ...    ...   ...   ...    ...          ...       ...   ...   \n",
       "31522  2017.0    2.0  27.0   6.0   80.0         -0.3    1019.4   0.0   \n",
       "31523  2017.0    2.0  27.0  16.0   75.0         15.9    1014.0   0.0   \n",
       "31524  2017.0    2.0  27.0  19.0   51.0         11.5    1014.1   0.0   \n",
       "31525  2017.0    2.0  28.0   2.0    9.0          8.6    1016.0   0.0   \n",
       "31526  2017.0    2.0  28.0  14.0    5.0         14.6    1013.3   0.0   \n",
       "\n",
       "      wind_direction  wind_speed  \n",
       "0                NNW         4.4  \n",
       "1                  N         5.0  \n",
       "2                NNW         5.6  \n",
       "3                 NW         3.1  \n",
       "4                  N         2.0  \n",
       "...              ...         ...  \n",
       "31522            ENE         0.8  \n",
       "31523             SW         2.9  \n",
       "31524            SSW         1.0  \n",
       "31525            NNE         0.9  \n",
       "31526              N         3.6  \n",
       "\n",
       "[31527 rows x 10 columns]"
      ]
     },
     "execution_count": 22,
     "metadata": {},
     "output_type": "execute_result"
    }
   ],
   "source": [
    "newdata"
   ]
  },
  {
   "cell_type": "markdown",
   "metadata": {},
   "source": [
    "# DAY 3-4\n",
    "# TASK-2:     \n",
    "1. Find outliers and fix or remove them. Mention the methods and explain how did you find the outliers. Also, give reason that why have you removed or fixed the values of the outliers.\n",
    "\n",
    "2. Analyse each column with every other coulmn and find the relationship between the two columns. This can be done using various plots/graphs.\n",
    "\n",
    "3. Find the correlation of PM2.5 with rest of the coulmns using correlation matrix and then visulaize the correlation matrix using heatmap.\n",
    "\n",
    "4. Perform various plots like:- scatter plots, lm plots, bar plots, pie plots etc according to the values in the columns. Keep in mind that you don't need to plot every type of plots, plot only the ones you think are suitable for a column.\n",
    "\n",
    "5. Plot box plot for every column and write your observations that you observed from the box plot.\n",
    "\n",
    "6. Find how PM2.5 is getting affected by other coulmns.\n"
   ]
  },
  {
   "cell_type": "markdown",
   "metadata": {},
   "source": [
    "**An OUTLIER is a data point in the dataset which lies outside of other observations, and it produces through mistakes or variance.**\n",
    "\n",
    "### FINDING OUTLIERS\n",
    "##### Here, to find them I will use the BOX PLOT  method, in which I will vizualise graphically by making boxes with the help of seaborn.\n"
   ]
  },
  {
   "cell_type": "code",
   "execution_count": 23,
   "metadata": {},
   "outputs": [
    {
     "data": {
      "text/plain": [
       "<AxesSubplot:xlabel='year'>"
      ]
     },
     "execution_count": 23,
     "metadata": {},
     "output_type": "execute_result"
    },
    {
     "data": {
      "image/png": "[encoded data removed]",
      "text/plain": [
       "<Figure size 432x288 with 1 Axes>"
      ]
     },
     "metadata": {
      "needs_background": "light"
     },
     "output_type": "display_data"
    }
   ],
   "source": [
    "import seaborn as sns\n",
    "sns.boxplot(x=newdata['year'])"
   ]
  },
  {
   "cell_type": "markdown",
   "metadata": {},
   "source": [
    "***we can observe that there is only one outlier beyond 2017, but its out of index.***"
   ]
  },
  {
   "cell_type": "code",
   "execution_count": 24,
   "metadata": {},
   "outputs": [
    {
     "data": {
      "text/plain": [
       "<AxesSubplot:xlabel='month'>"
      ]
     },
     "execution_count": 24,
     "metadata": {},
     "output_type": "execute_result"
    },
    {
     "data": {
      "image/png": "[encoded data removed]",
      "text/plain": [
       "<Figure size 432x288 with 1 Axes>"
      ]
     },
     "metadata": {
      "needs_background": "light"
     },
     "output_type": "display_data"
    }
   ],
   "source": [
    "sns.boxplot(x=newdata['month'])"
   ]
  },
  {
   "cell_type": "markdown",
   "metadata": {},
   "source": [
    "***Here, we can observe that there is no outlier in month column.***"
   ]
  },
  {
   "cell_type": "code",
   "execution_count": 25,
   "metadata": {},
   "outputs": [
    {
     "data": {
      "text/plain": [
       "<AxesSubplot:xlabel='day'>"
      ]
     },
     "execution_count": 25,
     "metadata": {},
     "output_type": "execute_result"
    },
    {
     "data": {
      "image/png": "[encoded data removed]",
      "text/plain": [
       "<Figure size 432x288 with 1 Axes>"
      ]
     },
     "metadata": {
      "needs_background": "light"
     },
     "output_type": "display_data"
    }
   ],
   "source": [
    "sns.boxplot(x=newdata['day'])"
   ]
  },
  {
   "cell_type": "code",
   "execution_count": 26,
   "metadata": {},
   "outputs": [
    {
     "data": {
      "text/plain": [
       "<AxesSubplot:xlabel='hour'>"
      ]
     },
     "execution_count": 26,
     "metadata": {},
     "output_type": "execute_result"
    },
    {
     "data": {
      "image/png": "[encoded data removed]",
      "text/plain": [
       "<Figure size 432x288 with 1 Axes>"
      ]
     },
     "metadata": {
      "needs_background": "light"
     },
     "output_type": "display_data"
    }
   ],
   "source": [
    "sns.boxplot(x=newdata['hour'])"
   ]
  },
  {
   "cell_type": "code",
   "execution_count": 27,
   "metadata": {},
   "outputs": [
    {
     "data": {
      "text/plain": [
       "<AxesSubplot:xlabel='PM2.5'>"
      ]
     },
     "execution_count": 27,
     "metadata": {},
     "output_type": "execute_result"
    },
    {
     "data": {
      "image/png": "[encoded data removed]",
      "text/plain": [
       "<Figure size 432x288 with 1 Axes>"
      ]
     },
     "metadata": {
      "needs_background": "light"
     },
     "output_type": "display_data"
    }
   ],
   "source": [
    "sns.boxplot(x=newdata['PM2.5'])"
   ]
  },
  {
   "cell_type": "code",
   "execution_count": 28,
   "metadata": {},
   "outputs": [
    {
     "data": {
      "text/plain": [
       "<AxesSubplot:xlabel='temperature'>"
      ]
     },
     "execution_count": 28,
     "metadata": {},
     "output_type": "execute_result"
    },
    {
     "data": {
      "image/png": "[encoded data removed]",
      "text/plain": [
       "<Figure size 432x288 with 1 Axes>"
      ]
     },
     "metadata": {
      "needs_background": "light"
     },
     "output_type": "display_data"
    }
   ],
   "source": [
    "sns.boxplot(x=newdata['temperature'])"
   ]
  },
  {
   "cell_type": "code",
   "execution_count": 29,
   "metadata": {},
   "outputs": [
    {
     "data": {
      "text/plain": [
       "<AxesSubplot:xlabel='pressure'>"
      ]
     },
     "execution_count": 29,
     "metadata": {},
     "output_type": "execute_result"
    },
    {
     "data": {
      "image/png": "[encoded data removed]",
      "text/plain": [
       "<Figure size 432x288 with 1 Axes>"
      ]
     },
     "metadata": {
      "needs_background": "light"
     },
     "output_type": "display_data"
    }
   ],
   "source": [
    "sns.boxplot(x=newdata['pressure'])"
   ]
  },
  {
   "cell_type": "code",
   "execution_count": 30,
   "metadata": {},
   "outputs": [
    {
     "data": {
      "text/plain": [
       "<AxesSubplot:xlabel='rain'>"
      ]
     },
     "execution_count": 30,
     "metadata": {},
     "output_type": "execute_result"
    },
    {
     "data": {
      "image/png": "[encoded data removed]",
      "text/plain": [
       "<Figure size 432x288 with 1 Axes>"
      ]
     },
     "metadata": {
      "needs_background": "light"
     },
     "output_type": "display_data"
    }
   ],
   "source": [
    "sns.boxplot(x=newdata['rain'])"
   ]
  },
  {
   "cell_type": "markdown",
   "metadata": {},
   "source": [
    "**We can observe that there are lots of outliers in the rain column**"
   ]
  },
  {
   "cell_type": "code",
   "execution_count": 31,
   "metadata": {},
   "outputs": [],
   "source": [
    "# sns.boxplot(x=newdata['wind_direction])\n",
    "\n",
    "# it will throw error because the dtype of wind_direction is object"
   ]
  },
  {
   "cell_type": "code",
   "execution_count": 32,
   "metadata": {},
   "outputs": [
    {
     "data": {
      "text/plain": [
       "<AxesSubplot:xlabel='wind_speed'>"
      ]
     },
     "execution_count": 32,
     "metadata": {},
     "output_type": "execute_result"
    },
    {
     "data": {
      "image/png": "[encoded data removed]",
      "text/plain": [
       "<Figure size 432x288 with 1 Axes>"
      ]
     },
     "metadata": {
      "needs_background": "light"
     },
     "output_type": "display_data"
    }
   ],
   "source": [
    "sns.boxplot(x=newdata['wind_speed'])"
   ]
  },
  {
   "cell_type": "markdown",
   "metadata": {},
   "source": [
    "***Method-2 : we can also detect outlier using z score, but here we can find the exact value of outlier***\n",
    "## Detecting outlier using Z score\n",
    "### Using Z score : Data point that falls outside of 3 standard deviations. we can use a z score and if the z score falls outside of 2 standard deviation. In this way I can find the outlier.\n",
    "#### Formula for Z score = (Observation — Mean)/Standard Deviation\n",
    "\n",
    "#### z = (X — μ) / σ"
   ]
  },
  {
   "cell_type": "code",
   "execution_count": 33,
   "metadata": {},
   "outputs": [],
   "source": [
    "outliers=[]\n",
    "def detect_outliers(data):\n",
    "    \n",
    "    threshold=3\n",
    "    mean = np.mean(data)\n",
    "    std =np.std(data)\n",
    "    \n",
    "    \n",
    "    for i in data:\n",
    "        z_score= (i - mean)/std \n",
    "        if np.abs(z_score) > threshold:\n",
    "            outliers.append(i)\n",
    "    return outliers"
   ]
  },
  {
   "cell_type": "code",
   "execution_count": 34,
   "metadata": {},
   "outputs": [
    {
     "data": {
      "text/plain": [
       "[10.7,\n",
       " 3.3,\n",
       " 7.6,\n",
       " 8.9,\n",
       " 3.2,\n",
       " 3.8,\n",
       " 3.6,\n",
       " 4.0,\n",
       " 16.0,\n",
       " 5.7,\n",
       " 11.7,\n",
       " 21.0,\n",
       " 10.1,\n",
       " 3.2,\n",
       " 6.4,\n",
       " 4.4,\n",
       " 12.1,\n",
       " 6.6,\n",
       " 3.6,\n",
       " 11.2,\n",
       " 3.0,\n",
       " 4.1,\n",
       " 3.0,\n",
       " 3.1,\n",
       " 9.8,\n",
       " 8.8,\n",
       " 4.5,\n",
       " 3.3,\n",
       " 3.8,\n",
       " 14.7,\n",
       " 10.6,\n",
       " 3.6,\n",
       " 6.0,\n",
       " 3.6,\n",
       " 72.5,\n",
       " 6.8,\n",
       " 6.0,\n",
       " 3.2,\n",
       " 3.9,\n",
       " 8.6,\n",
       " 4.0,\n",
       " 10.9,\n",
       " 3.1,\n",
       " 3.3,\n",
       " 3.5,\n",
       " 7.0,\n",
       " 7.3,\n",
       " 11.5,\n",
       " 3.3,\n",
       " 11.6,\n",
       " 8.2,\n",
       " 6.6,\n",
       " 5.4,\n",
       " 4.6,\n",
       " 7.8,\n",
       " 14.6,\n",
       " 4.1,\n",
       " 40.7,\n",
       " 7.5,\n",
       " 23.6,\n",
       " 23.3,\n",
       " 6.5,\n",
       " 6.1,\n",
       " 4.4,\n",
       " 26.8,\n",
       " 3.8,\n",
       " 6.4,\n",
       " 3.2,\n",
       " 8.0,\n",
       " 5.2,\n",
       " 3.4,\n",
       " 11.3,\n",
       " 10.7,\n",
       " 12.9,\n",
       " 13.6,\n",
       " 3.7,\n",
       " 6.4,\n",
       " 6.5,\n",
       " 4.7,\n",
       " 4.2,\n",
       " 3.6,\n",
       " 3.7,\n",
       " 5.0,\n",
       " 4.6,\n",
       " 11.7,\n",
       " 3.5,\n",
       " 3.5,\n",
       " 3.0,\n",
       " 5.2,\n",
       " 3.7,\n",
       " 3.5,\n",
       " 3.2,\n",
       " 3.9,\n",
       " 9.9,\n",
       " 4.8,\n",
       " 5.3,\n",
       " 9.6,\n",
       " 33.7,\n",
       " 3.7,\n",
       " 15.4,\n",
       " 3.2,\n",
       " 3.3,\n",
       " 9.5,\n",
       " 29.3,\n",
       " 7.9,\n",
       " 7.2,\n",
       " 5.2,\n",
       " 17.8,\n",
       " 33.1,\n",
       " 6.9,\n",
       " 5.9,\n",
       " 4.7,\n",
       " 7.3,\n",
       " 5.2,\n",
       " 3.3,\n",
       " 4.3,\n",
       " 6.9,\n",
       " 36.6,\n",
       " 10.9,\n",
       " 4.0,\n",
       " 13.4,\n",
       " 6.3,\n",
       " 3.2,\n",
       " 4.1,\n",
       " 3.4,\n",
       " 3.8,\n",
       " 5.7,\n",
       " 4.3,\n",
       " 4.9,\n",
       " 3.1,\n",
       " 3.7,\n",
       " 6.9,\n",
       " 3.7,\n",
       " 3.9,\n",
       " 17.9,\n",
       " 5.3,\n",
       " 4.0,\n",
       " 7.1,\n",
       " 4.1,\n",
       " 3.5,\n",
       " 3.6,\n",
       " 5.3,\n",
       " 13.8,\n",
       " 23.7,\n",
       " 24.1,\n",
       " 20.3,\n",
       " 17.8,\n",
       " 20.2,\n",
       " 9.0,\n",
       " 16.4,\n",
       " 3.8,\n",
       " 17.7,\n",
       " 18.3,\n",
       " 17.6,\n",
       " 7.6,\n",
       " 3.2,\n",
       " 15.3,\n",
       " 3.8,\n",
       " 12.1,\n",
       " 5.5,\n",
       " 5.5,\n",
       " 4.7,\n",
       " 3.2,\n",
       " 4.8,\n",
       " 21.7,\n",
       " 46.4,\n",
       " 3.5,\n",
       " 3.8,\n",
       " 11.7,\n",
       " 3.4]"
      ]
     },
     "execution_count": 34,
     "metadata": {},
     "output_type": "execute_result"
    }
   ],
   "source": [
    "outlier_pt=detect_outliers(newdata['rain'])\n",
    "outlier_pt"
   ]
  },
  {
   "cell_type": "code",
   "execution_count": 35,
   "metadata": {},
   "outputs": [],
   "source": [
    "# Trimming\n",
    "# for i in outlier_pt:\n",
    "#     if(i<31527):\n",
    "#         a = np.delete(newdata['rain'] , np.where(newdata['rain']==i))\n",
    "# print(a)"
   ]
  },
  {
   "cell_type": "markdown",
   "metadata": {},
   "source": [
    "### Finding correlation between columns and plotting heatmap"
   ]
  },
  {
   "cell_type": "code",
   "execution_count": 36,
   "metadata": {},
   "outputs": [
    {
     "data": {
      "text/html": [
       "<div>\n",
       "<style scoped>\n",
       "    .dataframe tbody tr th:only-of-type {\n",
       "        vertical-align: middle;\n",
       "    }\n",
       "\n",
       "    .dataframe tbody tr th {\n",
       "        vertical-align: top;\n",
       "    }\n",
       "\n",
       "    .dataframe thead th {\n",
       "        text-align: right;\n",
       "    }\n",
       "</style>\n",
       "<table border=\"1\" class=\"dataframe\">\n",
       "  <thead>\n",
       "    <tr style=\"text-align: right;\">\n",
       "      <th></th>\n",
       "      <th>year</th>\n",
       "      <th>month</th>\n",
       "      <th>day</th>\n",
       "      <th>hour</th>\n",
       "      <th>PM2.5</th>\n",
       "      <th>temperature</th>\n",
       "      <th>pressure</th>\n",
       "      <th>rain</th>\n",
       "      <th>wind_speed</th>\n",
       "    </tr>\n",
       "  </thead>\n",
       "  <tbody>\n",
       "    <tr>\n",
       "      <th>year</th>\n",
       "      <td>1.000000</td>\n",
       "      <td>-0.197649</td>\n",
       "      <td>-0.008615</td>\n",
       "      <td>-0.007282</td>\n",
       "      <td>-0.007743</td>\n",
       "      <td>-0.056282</td>\n",
       "      <td>0.033708</td>\n",
       "      <td>0.005065</td>\n",
       "      <td>0.128271</td>\n",
       "    </tr>\n",
       "    <tr>\n",
       "      <th>month</th>\n",
       "      <td>-0.197649</td>\n",
       "      <td>1.000000</td>\n",
       "      <td>0.007352</td>\n",
       "      <td>0.009088</td>\n",
       "      <td>-0.004171</td>\n",
       "      <td>0.150864</td>\n",
       "      <td>0.005215</td>\n",
       "      <td>0.014098</td>\n",
       "      <td>-0.145393</td>\n",
       "    </tr>\n",
       "    <tr>\n",
       "      <th>day</th>\n",
       "      <td>-0.008615</td>\n",
       "      <td>0.007352</td>\n",
       "      <td>1.000000</td>\n",
       "      <td>0.000682</td>\n",
       "      <td>-0.001939</td>\n",
       "      <td>0.014955</td>\n",
       "      <td>0.000242</td>\n",
       "      <td>0.000179</td>\n",
       "      <td>-0.009207</td>\n",
       "    </tr>\n",
       "    <tr>\n",
       "      <th>hour</th>\n",
       "      <td>-0.007282</td>\n",
       "      <td>0.009088</td>\n",
       "      <td>0.000682</td>\n",
       "      <td>1.000000</td>\n",
       "      <td>0.001019</td>\n",
       "      <td>0.036295</td>\n",
       "      <td>-0.005175</td>\n",
       "      <td>0.002570</td>\n",
       "      <td>0.020341</td>\n",
       "    </tr>\n",
       "    <tr>\n",
       "      <th>PM2.5</th>\n",
       "      <td>-0.007743</td>\n",
       "      <td>-0.004171</td>\n",
       "      <td>-0.001939</td>\n",
       "      <td>0.001019</td>\n",
       "      <td>1.000000</td>\n",
       "      <td>-0.004342</td>\n",
       "      <td>-0.000333</td>\n",
       "      <td>0.007283</td>\n",
       "      <td>0.000798</td>\n",
       "    </tr>\n",
       "    <tr>\n",
       "      <th>temperature</th>\n",
       "      <td>-0.056282</td>\n",
       "      <td>0.150864</td>\n",
       "      <td>0.014955</td>\n",
       "      <td>0.036295</td>\n",
       "      <td>-0.004342</td>\n",
       "      <td>1.000000</td>\n",
       "      <td>-0.209460</td>\n",
       "      <td>0.033575</td>\n",
       "      <td>0.038405</td>\n",
       "    </tr>\n",
       "    <tr>\n",
       "      <th>pressure</th>\n",
       "      <td>0.033708</td>\n",
       "      <td>0.005215</td>\n",
       "      <td>0.000242</td>\n",
       "      <td>-0.005175</td>\n",
       "      <td>-0.000333</td>\n",
       "      <td>-0.209460</td>\n",
       "      <td>1.000000</td>\n",
       "      <td>-0.015272</td>\n",
       "      <td>0.013046</td>\n",
       "    </tr>\n",
       "    <tr>\n",
       "      <th>rain</th>\n",
       "      <td>0.005065</td>\n",
       "      <td>0.014098</td>\n",
       "      <td>0.000179</td>\n",
       "      <td>0.002570</td>\n",
       "      <td>0.007283</td>\n",
       "      <td>0.033575</td>\n",
       "      <td>-0.015272</td>\n",
       "      <td>1.000000</td>\n",
       "      <td>0.021387</td>\n",
       "    </tr>\n",
       "    <tr>\n",
       "      <th>wind_speed</th>\n",
       "      <td>0.128271</td>\n",
       "      <td>-0.145393</td>\n",
       "      <td>-0.009207</td>\n",
       "      <td>0.020341</td>\n",
       "      <td>0.000798</td>\n",
       "      <td>0.038405</td>\n",
       "      <td>0.013046</td>\n",
       "      <td>0.021387</td>\n",
       "      <td>1.000000</td>\n",
       "    </tr>\n",
       "  </tbody>\n",
       "</table>\n",
       "</div>"
      ],
      "text/plain": [
       "                 year     month       day      hour     PM2.5  temperature  \\\n",
       "year         1.000000 -0.197649 -0.008615 -0.007282 -0.007743    -0.056282   \n",
       "month       -0.197649  1.000000  0.007352  0.009088 -0.004171     0.150864   \n",
       "day         -0.008615  0.007352  1.000000  0.000682 -0.001939     0.014955   \n",
       "hour        -0.007282  0.009088  0.000682  1.000000  0.001019     0.036295   \n",
       "PM2.5       -0.007743 -0.004171 -0.001939  0.001019  1.000000    -0.004342   \n",
       "temperature -0.056282  0.150864  0.014955  0.036295 -0.004342     1.000000   \n",
       "pressure     0.033708  0.005215  0.000242 -0.005175 -0.000333    -0.209460   \n",
       "rain         0.005065  0.014098  0.000179  0.002570  0.007283     0.033575   \n",
       "wind_speed   0.128271 -0.145393 -0.009207  0.020341  0.000798     0.038405   \n",
       "\n",
       "             pressure      rain  wind_speed  \n",
       "year         0.033708  0.005065    0.128271  \n",
       "month        0.005215  0.014098   -0.145393  \n",
       "day          0.000242  0.000179   -0.009207  \n",
       "hour        -0.005175  0.002570    0.020341  \n",
       "PM2.5       -0.000333  0.007283    0.000798  \n",
       "temperature -0.209460  0.033575    0.038405  \n",
       "pressure     1.000000 -0.015272    0.013046  \n",
       "rain        -0.015272  1.000000    0.021387  \n",
       "wind_speed   0.013046  0.021387    1.000000  "
      ]
     },
     "execution_count": 36,
     "metadata": {},
     "output_type": "execute_result"
    }
   ],
   "source": [
    "# corr_year = newdata['year'].corr(other=newdata['month'])\n",
    "corr_year = newdata.corr()\n",
    "corr_year"
   ]
  },
  {
   "cell_type": "code",
   "execution_count": 37,
   "metadata": {},
   "outputs": [
    {
     "data": {
      "image/png": "[encoded data removed]",
      "text/plain": [
       "<Figure size 1440x1080 with 2 Axes>"
      ]
     },
     "metadata": {
      "needs_background": "light"
     },
     "output_type": "display_data"
    }
   ],
   "source": [
    "%matplotlib inline\n",
    "import seaborn as sns\n",
    "import matplotlib.pyplot as plt\n",
    "\n",
    "plt.figure(figsize=(20,15))\n",
    "\n",
    "sns.heatmap(corr_year, annot=True, annot_kws={'size': 15}) # not using fmt, , fmt='.5g'\n",
    "\n",
    "plt.show()"
   ]
  },
  {
   "cell_type": "markdown",
   "metadata": {},
   "source": [
    "### Finding relationship between each column"
   ]
  },
  {
   "cell_type": "code",
   "execution_count": 38,
   "metadata": {},
   "outputs": [],
   "source": [
    "# plt.bar(newdata['year'], newdata['month'])\n",
    "# plt.show()"
   ]
  },
  {
   "cell_type": "code",
   "execution_count": 39,
   "metadata": {},
   "outputs": [],
   "source": [
    "# plt.bar(newdata['day'], newdata['month'])\n",
    "# plt.show()"
   ]
  },
  {
   "cell_type": "code",
   "execution_count": 40,
   "metadata": {},
   "outputs": [
    {
     "data": {
      "image/png": "[encoded data removed]",
      "text/plain": [
       "<Figure size 432x288 with 1 Axes>"
      ]
     },
     "metadata": {
      "needs_background": "light"
     },
     "output_type": "display_data"
    }
   ],
   "source": [
    "plt.scatter(newdata['temperature'], newdata['pressure'])\n",
    "plt.show()"
   ]
  },
  {
   "cell_type": "code",
   "execution_count": 41,
   "metadata": {},
   "outputs": [
    {
     "data": {
      "text/plain": [
       "<matplotlib.collections.PathCollection at 0x1e94982a9a0>"
      ]
     },
     "execution_count": 41,
     "metadata": {},
     "output_type": "execute_result"
    },
    {
     "data": {
      "image/png": "[encoded data removed]",
      "text/plain": [
       "<Figure size 432x288 with 1 Axes>"
      ]
     },
     "metadata": {
      "needs_background": "light"
     },
     "output_type": "display_data"
    }
   ],
   "source": [
    "plt.scatter(newdata['year'], newdata['pressure'])"
   ]
  },
  {
   "cell_type": "code",
   "execution_count": 42,
   "metadata": {},
   "outputs": [
    {
     "data": {
      "text/plain": [
       "<matplotlib.collections.PathCollection at 0x1e9492a95b0>"
      ]
     },
     "execution_count": 42,
     "metadata": {},
     "output_type": "execute_result"
    },
    {
     "data": {
      "image/png": "[encoded data removed]",
      "text/plain": [
       "<Figure size 432x288 with 1 Axes>"
      ]
     },
     "metadata": {
      "needs_background": "light"
     },
     "output_type": "display_data"
    }
   ],
   "source": [
    "plt.scatter(newdata['year'], newdata['PM2.5'])"
   ]
  },
  {
   "cell_type": "markdown",
   "metadata": {},
   "source": [
    "## Finding correlation of PM2.5 with others"
   ]
  },
  {
   "cell_type": "code",
   "execution_count": 43,
   "metadata": {},
   "outputs": [
    {
     "data": {
      "text/html": [
       "<div>\n",
       "<style scoped>\n",
       "    .dataframe tbody tr th:only-of-type {\n",
       "        vertical-align: middle;\n",
       "    }\n",
       "\n",
       "    .dataframe tbody tr th {\n",
       "        vertical-align: top;\n",
       "    }\n",
       "\n",
       "    .dataframe thead th {\n",
       "        text-align: right;\n",
       "    }\n",
       "</style>\n",
       "<table border=\"1\" class=\"dataframe\">\n",
       "  <thead>\n",
       "    <tr style=\"text-align: right;\">\n",
       "      <th></th>\n",
       "      <th>year</th>\n",
       "      <th>PM2.5</th>\n",
       "    </tr>\n",
       "  </thead>\n",
       "  <tbody>\n",
       "    <tr>\n",
       "      <th>year</th>\n",
       "      <td>1.000000</td>\n",
       "      <td>-0.007743</td>\n",
       "    </tr>\n",
       "    <tr>\n",
       "      <th>PM2.5</th>\n",
       "      <td>-0.007743</td>\n",
       "      <td>1.000000</td>\n",
       "    </tr>\n",
       "  </tbody>\n",
       "</table>\n",
       "</div>"
      ],
      "text/plain": [
       "           year     PM2.5\n",
       "year   1.000000 -0.007743\n",
       "PM2.5 -0.007743  1.000000"
      ]
     },
     "execution_count": 43,
     "metadata": {},
     "output_type": "execute_result"
    }
   ],
   "source": [
    "corr_pm = newdata[['year', 'PM2.5']].corr()\n",
    "# sns.heatmap(newdata[['PM2.5']].corr(other=newdata[['year']]))\n",
    "corr_pm"
   ]
  },
  {
   "cell_type": "code",
   "execution_count": 44,
   "metadata": {},
   "outputs": [
    {
     "data": {
      "text/plain": [
       "<AxesSubplot:>"
      ]
     },
     "execution_count": 44,
     "metadata": {},
     "output_type": "execute_result"
    },
    {
     "data": {
      "image/png": "[encoded data removed]",
      "text/plain": [
       "<Figure size 432x288 with 2 Axes>"
      ]
     },
     "metadata": {
      "needs_background": "light"
     },
     "output_type": "display_data"
    }
   ],
   "source": [
    "sns.heatmap(corr_pm, annot=True, annot_kws={'size': 15})"
   ]
  },
  {
   "cell_type": "code",
   "execution_count": 45,
   "metadata": {},
   "outputs": [
    {
     "data": {
      "text/plain": [
       "<AxesSubplot:>"
      ]
     },
     "execution_count": 45,
     "metadata": {},
     "output_type": "execute_result"
    },
    {
     "data": {
      "image/png": "[encoded data removed]",
      "text/plain": [
       "<Figure size 432x288 with 2 Axes>"
      ]
     },
     "metadata": {
      "needs_background": "light"
     },
     "output_type": "display_data"
    }
   ],
   "source": [
    "corr_pm_temp = newdata[['temperature', 'PM2.5']].corr()\n",
    "sns.heatmap(corr_pm_temp, annot=True, annot_kws={'size': 15})"
   ]
  },
  {
   "cell_type": "code",
   "execution_count": 46,
   "metadata": {},
   "outputs": [
    {
     "data": {
      "text/plain": [
       "<AxesSubplot:>"
      ]
     },
     "execution_count": 46,
     "metadata": {},
     "output_type": "execute_result"
    },
    {
     "data": {
      "image/png": "[encoded data removed]",
      "text/plain": [
       "<Figure size 432x288 with 2 Axes>"
      ]
     },
     "metadata": {
      "needs_background": "light"
     },
     "output_type": "display_data"
    }
   ],
   "source": [
    "corr_pm_rain = newdata[['rain', 'PM2.5']].corr()\n",
    "sns.heatmap(corr_pm_rain, annot=True, annot_kws={'size': 15})"
   ]
  },
  {
   "cell_type": "markdown",
   "metadata": {},
   "source": [
    "**As we can see from above heatmaps, the correlation values of PM2.5 with other columns are very low. Therefore, it will be not affected by other columns or parameters**"
   ]
  },
  {
   "cell_type": "markdown",
   "metadata": {},
   "source": [
    "# DAY 5-6\n",
    "# Task:\n",
    "Model training and evaluation.\n",
    "\n",
    "As you already know that you have been provided with a dataset with attributes like PM2.5, wind speed etc, you may have already got an idea about what you have to do in the next task.\n",
    "\n",
    "The dataset is of the weather condition of a particular place over some years, one hour at a time.\n",
    "\n",
    "Your task is to predict the PM2.5 concentration on a test dataset.\n",
    "\n",
    "The test dataset will be provided to you on Day 7.\n",
    "\n",
    "Here are the tasks that you need to complete:-\n",
    "\n",
    "1. Train atleast two models to predict PM2.5 and decide a the final model from the trained models for prediction.\n",
    "\n",
    "2. For each model print it's accuracy(out of 100 in %)(r2 is preferred), the errors(mean squared, mean absolute etc).\n",
    "\n",
    "3. Tell us why did you select a particular model for final prediction with stats/proofs to support your answer.\n",
    "\n",
    "4. After finalising the model predict PM2.5 concentration on test dataset that you had made in test_train_split and plot a graph of actual vs predicted to show comparison and how accurately the model is predicting.  \n",
    "        -Actual data is the values of PM2.5 in the test dataset that you have made.    \n",
    "        -Predicted data is the values predicted by your finalized model.    \n",
    "\n",
    "5. Explain the observation that you can make from the actual vs predicted graph.\n",
    "\n",
    "6. Predict output on 10 different inputs and print them. These inputs are your inputs that you will give to the model after the model is fully trained and ready for deployment. The inputs values depends on you. You can take any input values.\n",
    "\n",
    "7. Optimize your model as much as possible for better accuracy keeping in mind the case of underfitting and overfitting.\n"
   ]
  },
  {
   "cell_type": "markdown",
   "metadata": {},
   "source": [
    "## Data Pre-processing"
   ]
  },
  {
   "cell_type": "markdown",
   "metadata": {},
   "source": [
    "First we will do label encoding of wind_direction since it is of object dtype."
   ]
  },
  {
   "cell_type": "code",
   "execution_count": 47,
   "metadata": {},
   "outputs": [],
   "source": [
    "from sklearn.preprocessing import LabelEncoder\n",
    "le = LabelEncoder()\n",
    "newdata['wind_direction_N'] = le.fit_transform(newdata['wind_direction'])"
   ]
  },
  {
   "cell_type": "code",
   "execution_count": 48,
   "metadata": {},
   "outputs": [
    {
     "data": {
      "text/html": [
       "<div>\n",
       "<style scoped>\n",
       "    .dataframe tbody tr th:only-of-type {\n",
       "        vertical-align: middle;\n",
       "    }\n",
       "\n",
       "    .dataframe tbody tr th {\n",
       "        vertical-align: top;\n",
       "    }\n",
       "\n",
       "    .dataframe thead th {\n",
       "        text-align: right;\n",
       "    }\n",
       "</style>\n",
       "<table border=\"1\" class=\"dataframe\">\n",
       "  <thead>\n",
       "    <tr style=\"text-align: right;\">\n",
       "      <th></th>\n",
       "      <th>year</th>\n",
       "      <th>month</th>\n",
       "      <th>day</th>\n",
       "      <th>hour</th>\n",
       "      <th>PM2.5</th>\n",
       "      <th>temperature</th>\n",
       "      <th>pressure</th>\n",
       "      <th>rain</th>\n",
       "      <th>wind_direction</th>\n",
       "      <th>wind_speed</th>\n",
       "      <th>wind_direction_N</th>\n",
       "    </tr>\n",
       "  </thead>\n",
       "  <tbody>\n",
       "    <tr>\n",
       "      <th>0</th>\n",
       "      <td>2013.0</td>\n",
       "      <td>3.0</td>\n",
       "      <td>1.0</td>\n",
       "      <td>0.0</td>\n",
       "      <td>4.0</td>\n",
       "      <td>-0.7</td>\n",
       "      <td>1023.7</td>\n",
       "      <td>0.0</td>\n",
       "      <td>NNW</td>\n",
       "      <td>4.4</td>\n",
       "      <td>6</td>\n",
       "    </tr>\n",
       "    <tr>\n",
       "      <th>1</th>\n",
       "      <td>2013.0</td>\n",
       "      <td>3.0</td>\n",
       "      <td>1.0</td>\n",
       "      <td>1.0</td>\n",
       "      <td>8.0</td>\n",
       "      <td>-1.1</td>\n",
       "      <td>1023.2</td>\n",
       "      <td>0.0</td>\n",
       "      <td>N</td>\n",
       "      <td>5.0</td>\n",
       "      <td>3</td>\n",
       "    </tr>\n",
       "    <tr>\n",
       "      <th>2</th>\n",
       "      <td>2013.0</td>\n",
       "      <td>3.0</td>\n",
       "      <td>1.0</td>\n",
       "      <td>2.0</td>\n",
       "      <td>7.0</td>\n",
       "      <td>-1.1</td>\n",
       "      <td>1023.5</td>\n",
       "      <td>0.0</td>\n",
       "      <td>NNW</td>\n",
       "      <td>5.6</td>\n",
       "      <td>6</td>\n",
       "    </tr>\n",
       "    <tr>\n",
       "      <th>3</th>\n",
       "      <td>2013.0</td>\n",
       "      <td>3.0</td>\n",
       "      <td>1.0</td>\n",
       "      <td>3.0</td>\n",
       "      <td>6.0</td>\n",
       "      <td>-1.4</td>\n",
       "      <td>1024.5</td>\n",
       "      <td>0.0</td>\n",
       "      <td>NW</td>\n",
       "      <td>3.1</td>\n",
       "      <td>7</td>\n",
       "    </tr>\n",
       "    <tr>\n",
       "      <th>4</th>\n",
       "      <td>2013.0</td>\n",
       "      <td>3.0</td>\n",
       "      <td>1.0</td>\n",
       "      <td>4.0</td>\n",
       "      <td>3.0</td>\n",
       "      <td>-2.0</td>\n",
       "      <td>1025.2</td>\n",
       "      <td>0.0</td>\n",
       "      <td>N</td>\n",
       "      <td>2.0</td>\n",
       "      <td>3</td>\n",
       "    </tr>\n",
       "    <tr>\n",
       "      <th>...</th>\n",
       "      <td>...</td>\n",
       "      <td>...</td>\n",
       "      <td>...</td>\n",
       "      <td>...</td>\n",
       "      <td>...</td>\n",
       "      <td>...</td>\n",
       "      <td>...</td>\n",
       "      <td>...</td>\n",
       "      <td>...</td>\n",
       "      <td>...</td>\n",
       "      <td>...</td>\n",
       "    </tr>\n",
       "    <tr>\n",
       "      <th>31522</th>\n",
       "      <td>2017.0</td>\n",
       "      <td>2.0</td>\n",
       "      <td>27.0</td>\n",
       "      <td>6.0</td>\n",
       "      <td>80.0</td>\n",
       "      <td>-0.3</td>\n",
       "      <td>1019.4</td>\n",
       "      <td>0.0</td>\n",
       "      <td>ENE</td>\n",
       "      <td>0.8</td>\n",
       "      <td>1</td>\n",
       "    </tr>\n",
       "    <tr>\n",
       "      <th>31523</th>\n",
       "      <td>2017.0</td>\n",
       "      <td>2.0</td>\n",
       "      <td>27.0</td>\n",
       "      <td>16.0</td>\n",
       "      <td>75.0</td>\n",
       "      <td>15.9</td>\n",
       "      <td>1014.0</td>\n",
       "      <td>0.0</td>\n",
       "      <td>SW</td>\n",
       "      <td>2.9</td>\n",
       "      <td>12</td>\n",
       "    </tr>\n",
       "    <tr>\n",
       "      <th>31524</th>\n",
       "      <td>2017.0</td>\n",
       "      <td>2.0</td>\n",
       "      <td>27.0</td>\n",
       "      <td>19.0</td>\n",
       "      <td>51.0</td>\n",
       "      <td>11.5</td>\n",
       "      <td>1014.1</td>\n",
       "      <td>0.0</td>\n",
       "      <td>SSW</td>\n",
       "      <td>1.0</td>\n",
       "      <td>11</td>\n",
       "    </tr>\n",
       "    <tr>\n",
       "      <th>31525</th>\n",
       "      <td>2017.0</td>\n",
       "      <td>2.0</td>\n",
       "      <td>28.0</td>\n",
       "      <td>2.0</td>\n",
       "      <td>9.0</td>\n",
       "      <td>8.6</td>\n",
       "      <td>1016.0</td>\n",
       "      <td>0.0</td>\n",
       "      <td>NNE</td>\n",
       "      <td>0.9</td>\n",
       "      <td>5</td>\n",
       "    </tr>\n",
       "    <tr>\n",
       "      <th>31526</th>\n",
       "      <td>2017.0</td>\n",
       "      <td>2.0</td>\n",
       "      <td>28.0</td>\n",
       "      <td>14.0</td>\n",
       "      <td>5.0</td>\n",
       "      <td>14.6</td>\n",
       "      <td>1013.3</td>\n",
       "      <td>0.0</td>\n",
       "      <td>N</td>\n",
       "      <td>3.6</td>\n",
       "      <td>3</td>\n",
       "    </tr>\n",
       "  </tbody>\n",
       "</table>\n",
       "<p>31527 rows × 11 columns</p>\n",
       "</div>"
      ],
      "text/plain": [
       "         year  month   day  hour  PM2.5  temperature  pressure  rain  \\\n",
       "0      2013.0    3.0   1.0   0.0    4.0         -0.7    1023.7   0.0   \n",
       "1      2013.0    3.0   1.0   1.0    8.0         -1.1    1023.2   0.0   \n",
       "2      2013.0    3.0   1.0   2.0    7.0         -1.1    1023.5   0.0   \n",
       "3      2013.0    3.0   1.0   3.0    6.0         -1.4    1024.5   0.0   \n",
       "4      2013.0    3.0   1.0   4.0    3.0         -2.0    1025.2   0.0   \n",
       "...       ...    ...   ...   ...    ...          ...       ...   ...   \n",
       "31522  2017.0    2.0  27.0   6.0   80.0         -0.3    1019.4   0.0   \n",
       "31523  2017.0    2.0  27.0  16.0   75.0         15.9    1014.0   0.0   \n",
       "31524  2017.0    2.0  27.0  19.0   51.0         11.5    1014.1   0.0   \n",
       "31525  2017.0    2.0  28.0   2.0    9.0          8.6    1016.0   0.0   \n",
       "31526  2017.0    2.0  28.0  14.0    5.0         14.6    1013.3   0.0   \n",
       "\n",
       "      wind_direction  wind_speed  wind_direction_N  \n",
       "0                NNW         4.4                 6  \n",
       "1                  N         5.0                 3  \n",
       "2                NNW         5.6                 6  \n",
       "3                 NW         3.1                 7  \n",
       "4                  N         2.0                 3  \n",
       "...              ...         ...               ...  \n",
       "31522            ENE         0.8                 1  \n",
       "31523             SW         2.9                12  \n",
       "31524            SSW         1.0                11  \n",
       "31525            NNE         0.9                 5  \n",
       "31526              N         3.6                 3  \n",
       "\n",
       "[31527 rows x 11 columns]"
      ]
     },
     "execution_count": 48,
     "metadata": {},
     "output_type": "execute_result"
    }
   ],
   "source": [
    "newdata"
   ]
  },
  {
   "cell_type": "markdown",
   "metadata": {},
   "source": [
    "Now, let's extract or separate the values of other parameters (independent variables) with PM2.5 (dependent variable), which will help in training and testing."
   ]
  },
  {
   "cell_type": "code",
   "execution_count": 49,
   "metadata": {},
   "outputs": [],
   "source": [
    "X=newdata[[\n",
    "    'year',\n",
    "    'month',\n",
    "    'day',\n",
    "    'hour',\n",
    "    'temperature',\n",
    "    'pressure',\n",
    "    'rain',\n",
    "    'wind_speed',\n",
    "    'wind_direction_N'\n",
    "]]\n",
    "\n",
    "y = newdata['PM2.5']"
   ]
  },
  {
   "cell_type": "markdown",
   "metadata": {},
   "source": [
    "Using train_test_split, we have splitted the 25% of dataset, in which 75% data is training dataset and 25% testing."
   ]
  },
  {
   "cell_type": "code",
   "execution_count": 50,
   "metadata": {},
   "outputs": [],
   "source": [
    "from sklearn.model_selection import train_test_split\n",
    "X_test, X_train, y_test, y_train = train_test_split(X, y, test_size = 0.25, random_state = 0)"
   ]
  },
  {
   "cell_type": "code",
   "execution_count": 51,
   "metadata": {},
   "outputs": [
    {
     "data": {
      "text/html": [
       "<div>\n",
       "<style scoped>\n",
       "    .dataframe tbody tr th:only-of-type {\n",
       "        vertical-align: middle;\n",
       "    }\n",
       "\n",
       "    .dataframe tbody tr th {\n",
       "        vertical-align: top;\n",
       "    }\n",
       "\n",
       "    .dataframe thead th {\n",
       "        text-align: right;\n",
       "    }\n",
       "</style>\n",
       "<table border=\"1\" class=\"dataframe\">\n",
       "  <thead>\n",
       "    <tr style=\"text-align: right;\">\n",
       "      <th></th>\n",
       "      <th>year</th>\n",
       "      <th>month</th>\n",
       "      <th>day</th>\n",
       "      <th>hour</th>\n",
       "      <th>temperature</th>\n",
       "      <th>pressure</th>\n",
       "      <th>rain</th>\n",
       "      <th>wind_speed</th>\n",
       "      <th>wind_direction_N</th>\n",
       "    </tr>\n",
       "  </thead>\n",
       "  <tbody>\n",
       "    <tr>\n",
       "      <th>22362</th>\n",
       "      <td>2015.0</td>\n",
       "      <td>10.0</td>\n",
       "      <td>18.0</td>\n",
       "      <td>4.0</td>\n",
       "      <td>17.0</td>\n",
       "      <td>1018.8</td>\n",
       "      <td>0.0</td>\n",
       "      <td>2.4</td>\n",
       "      <td>4</td>\n",
       "    </tr>\n",
       "    <tr>\n",
       "      <th>3127</th>\n",
       "      <td>2013.0</td>\n",
       "      <td>7.0</td>\n",
       "      <td>9.0</td>\n",
       "      <td>12.0</td>\n",
       "      <td>25.0</td>\n",
       "      <td>998.2</td>\n",
       "      <td>2.1</td>\n",
       "      <td>0.7</td>\n",
       "      <td>4</td>\n",
       "    </tr>\n",
       "    <tr>\n",
       "      <th>26302</th>\n",
       "      <td>2016.0</td>\n",
       "      <td>4.0</td>\n",
       "      <td>2.0</td>\n",
       "      <td>10.0</td>\n",
       "      <td>15.6</td>\n",
       "      <td>1017.2</td>\n",
       "      <td>0.0</td>\n",
       "      <td>2.4</td>\n",
       "      <td>5</td>\n",
       "    </tr>\n",
       "    <tr>\n",
       "      <th>21092</th>\n",
       "      <td>2015.0</td>\n",
       "      <td>8.0</td>\n",
       "      <td>25.0</td>\n",
       "      <td>13.0</td>\n",
       "      <td>29.6</td>\n",
       "      <td>1005.4</td>\n",
       "      <td>0.0</td>\n",
       "      <td>2.7</td>\n",
       "      <td>7</td>\n",
       "    </tr>\n",
       "    <tr>\n",
       "      <th>6144</th>\n",
       "      <td>2013.0</td>\n",
       "      <td>11.0</td>\n",
       "      <td>12.0</td>\n",
       "      <td>9.0</td>\n",
       "      <td>11.6</td>\n",
       "      <td>1020.7</td>\n",
       "      <td>0.0</td>\n",
       "      <td>1.5</td>\n",
       "      <td>4</td>\n",
       "    </tr>\n",
       "    <tr>\n",
       "      <th>...</th>\n",
       "      <td>...</td>\n",
       "      <td>...</td>\n",
       "      <td>...</td>\n",
       "      <td>...</td>\n",
       "      <td>...</td>\n",
       "      <td>...</td>\n",
       "      <td>...</td>\n",
       "      <td>...</td>\n",
       "      <td>...</td>\n",
       "    </tr>\n",
       "    <tr>\n",
       "      <th>23841</th>\n",
       "      <td>2015.0</td>\n",
       "      <td>12.0</td>\n",
       "      <td>19.0</td>\n",
       "      <td>19.0</td>\n",
       "      <td>-1.2</td>\n",
       "      <td>1028.4</td>\n",
       "      <td>0.0</td>\n",
       "      <td>0.1</td>\n",
       "      <td>3</td>\n",
       "    </tr>\n",
       "    <tr>\n",
       "      <th>23080</th>\n",
       "      <td>2015.0</td>\n",
       "      <td>11.0</td>\n",
       "      <td>17.0</td>\n",
       "      <td>13.0</td>\n",
       "      <td>8.5</td>\n",
       "      <td>1022.8</td>\n",
       "      <td>0.0</td>\n",
       "      <td>1.6</td>\n",
       "      <td>5</td>\n",
       "    </tr>\n",
       "    <tr>\n",
       "      <th>29227</th>\n",
       "      <td>2016.0</td>\n",
       "      <td>8.0</td>\n",
       "      <td>6.0</td>\n",
       "      <td>5.0</td>\n",
       "      <td>26.4</td>\n",
       "      <td>1003.0</td>\n",
       "      <td>0.0</td>\n",
       "      <td>1.0</td>\n",
       "      <td>0</td>\n",
       "    </tr>\n",
       "    <tr>\n",
       "      <th>11138</th>\n",
       "      <td>2014.0</td>\n",
       "      <td>6.0</td>\n",
       "      <td>12.0</td>\n",
       "      <td>20.0</td>\n",
       "      <td>29.1</td>\n",
       "      <td>999.9</td>\n",
       "      <td>0.0</td>\n",
       "      <td>2.1</td>\n",
       "      <td>1</td>\n",
       "    </tr>\n",
       "    <tr>\n",
       "      <th>10416</th>\n",
       "      <td>2014.0</td>\n",
       "      <td>5.0</td>\n",
       "      <td>13.0</td>\n",
       "      <td>13.0</td>\n",
       "      <td>29.7</td>\n",
       "      <td>993.7</td>\n",
       "      <td>0.0</td>\n",
       "      <td>4.3</td>\n",
       "      <td>3</td>\n",
       "    </tr>\n",
       "  </tbody>\n",
       "</table>\n",
       "<p>7882 rows × 9 columns</p>\n",
       "</div>"
      ],
      "text/plain": [
       "         year  month   day  hour  temperature  pressure  rain  wind_speed  \\\n",
       "22362  2015.0   10.0  18.0   4.0         17.0    1018.8   0.0         2.4   \n",
       "3127   2013.0    7.0   9.0  12.0         25.0     998.2   2.1         0.7   \n",
       "26302  2016.0    4.0   2.0  10.0         15.6    1017.2   0.0         2.4   \n",
       "21092  2015.0    8.0  25.0  13.0         29.6    1005.4   0.0         2.7   \n",
       "6144   2013.0   11.0  12.0   9.0         11.6    1020.7   0.0         1.5   \n",
       "...       ...    ...   ...   ...          ...       ...   ...         ...   \n",
       "23841  2015.0   12.0  19.0  19.0         -1.2    1028.4   0.0         0.1   \n",
       "23080  2015.0   11.0  17.0  13.0          8.5    1022.8   0.0         1.6   \n",
       "29227  2016.0    8.0   6.0   5.0         26.4    1003.0   0.0         1.0   \n",
       "11138  2014.0    6.0  12.0  20.0         29.1     999.9   0.0         2.1   \n",
       "10416  2014.0    5.0  13.0  13.0         29.7     993.7   0.0         4.3   \n",
       "\n",
       "       wind_direction_N  \n",
       "22362                 4  \n",
       "3127                  4  \n",
       "26302                 5  \n",
       "21092                 7  \n",
       "6144                  4  \n",
       "...                 ...  \n",
       "23841                 3  \n",
       "23080                 5  \n",
       "29227                 0  \n",
       "11138                 1  \n",
       "10416                 3  \n",
       "\n",
       "[7882 rows x 9 columns]"
      ]
     },
     "execution_count": 51,
     "metadata": {},
     "output_type": "execute_result"
    }
   ],
   "source": [
    "X_train"
   ]
  },
  {
   "cell_type": "code",
   "execution_count": 52,
   "metadata": {},
   "outputs": [
    {
     "data": {
      "text/plain": [
       "22362     80.0\n",
       "3127      52.0\n",
       "26302      8.0\n",
       "21092      8.0\n",
       "6144      68.0\n",
       "         ...  \n",
       "23841    165.0\n",
       "23080     19.0\n",
       "29227    120.0\n",
       "11138     36.0\n",
       "10416     96.0\n",
       "Name: PM2.5, Length: 7882, dtype: float64"
      ]
     },
     "execution_count": 52,
     "metadata": {},
     "output_type": "execute_result"
    }
   ],
   "source": [
    "y_train"
   ]
  },
  {
   "cell_type": "code",
   "execution_count": 53,
   "metadata": {},
   "outputs": [],
   "source": [
    "#feature Scaling  (which will make all the values in same range)\n",
    "from sklearn.preprocessing import StandardScaler    \n",
    "st_x= StandardScaler()  \n",
    "# sc_y = StandardScaler()\n",
    "\n",
    "X_train= st_x.fit_transform(X_train)    \n",
    "X_test= st_x.transform(X_test)  \n",
    "# y_train = sc_y.fit_transform(y_train)\n",
    "# y_test = sc_y.fit_transform(y_test)"
   ]
  },
  {
   "cell_type": "code",
   "execution_count": 54,
   "metadata": {},
   "outputs": [],
   "source": [
    "# from sklearn.linear_model import SGDRegressor"
   ]
  },
  {
   "cell_type": "markdown",
   "metadata": {},
   "source": [
    "## Training and Fitting to the Training data"
   ]
  },
  {
   "cell_type": "markdown",
   "metadata": {},
   "source": [
    "Now, using SVM regressor algorithm for trainig and fitting the model (which according to me is best from SGD regressor algo)"
   ]
  },
  {
   "cell_type": "code",
   "execution_count": 55,
   "metadata": {},
   "outputs": [
    {
     "data": {
      "text/plain": [
       "SVR()"
      ]
     },
     "execution_count": 55,
     "metadata": {},
     "output_type": "execute_result"
    }
   ],
   "source": [
    "# clf = SGDRegressor(loss=\"squared_loss\", penalty=\"l2\", max_iter=5)\n",
    "# clf = SGDRegressor()\n",
    "# clf.fit(X_train, y_train)\n",
    "\n",
    "from sklearn.svm import SVR # \"Support vector Regressor\"  \n",
    "reg = SVR(kernel = 'rbf')  \n",
    "reg.fit(X_train, y_train)  "
   ]
  },
  {
   "cell_type": "markdown",
   "metadata": {},
   "source": [
    "### WHY SVR?\n",
    "### Beacause it creates easily a separation line or hyperplane between labels and features. Also SGD is good for linear regressors but SVR can also be used for non-linears, which is required here."
   ]
  },
  {
   "cell_type": "markdown",
   "metadata": {},
   "source": [
    "**Now predicting the value of PM2.5 and calculating the score(accuracy)**`"
   ]
  },
  {
   "cell_type": "code",
   "execution_count": 56,
   "metadata": {},
   "outputs": [
    {
     "data": {
      "text/plain": [
       "array([38.35935403, 68.02934645, 24.87833307, ..., 89.21204748,\n",
       "       70.09344163, 81.51000602])"
      ]
     },
     "execution_count": 56,
     "metadata": {},
     "output_type": "execute_result"
    }
   ],
   "source": [
    "y_pred= reg.predict(X_test)  \n",
    "y_pred"
   ]
  },
  {
   "cell_type": "code",
   "execution_count": 57,
   "metadata": {},
   "outputs": [
    {
     "data": {
      "text/plain": [
       "0.06791329820208769"
      ]
     },
     "execution_count": 57,
     "metadata": {},
     "output_type": "execute_result"
    }
   ],
   "source": [
    "reg.score(X_test, y_test)"
   ]
  },
  {
   "cell_type": "code",
   "execution_count": 58,
   "metadata": {},
   "outputs": [],
   "source": [
    "# Y = SGDRegressor.predict(X_test)"
   ]
  },
  {
   "cell_type": "code",
   "execution_count": 59,
   "metadata": {},
   "outputs": [],
   "source": [
    "# from sklearn.metrics import r2_score\n",
    "# r2_score(X_test, y_test)"
   ]
  },
  {
   "cell_type": "code",
   "execution_count": 60,
   "metadata": {},
   "outputs": [
    {
     "data": {
      "text/plain": [
       "6.7913298202087695"
      ]
     },
     "execution_count": 60,
     "metadata": {},
     "output_type": "execute_result"
    }
   ],
   "source": [
    "reg.score(X_test, y_test)*100"
   ]
  },
  {
   "cell_type": "markdown",
   "metadata": {},
   "source": [
    "## Actual vs Predicted values"
   ]
  },
  {
   "cell_type": "code",
   "execution_count": 61,
   "metadata": {},
   "outputs": [
    {
     "name": "stdout",
     "output_type": "stream",
     "text": [
      "       Actual  Predicted\n",
      "19553    12.0  38.359354\n",
      "16179   123.0  68.029346\n",
      "21475     9.0  24.878333\n",
      "24716    13.0  15.245359\n",
      "4580    100.0  65.708944\n",
      "...       ...        ...\n",
      "13123    32.0  71.855360\n",
      "19648   292.0  60.164885\n",
      "9845     57.0  89.212047\n",
      "10799    21.0  70.093442\n",
      "2732     46.0  81.510006\n",
      "\n",
      "[23645 rows x 2 columns]\n"
     ]
    }
   ],
   "source": [
    "comparison = pd.DataFrame({'Actual':y_test,'Predicted':y_pred})\n",
    "print(comparison)"
   ]
  },
  {
   "cell_type": "markdown",
   "metadata": {},
   "source": [
    "## Actual vs Predicted Graph"
   ]
  },
  {
   "cell_type": "code",
   "execution_count": 62,
   "metadata": {},
   "outputs": [
    {
     "data": {
      "image/png": "[encoded data removed]",
      "text/plain": [
       "<Figure size 1080x576 with 1 Axes>"
      ]
     },
     "metadata": {
      "needs_background": "light"
     },
     "output_type": "display_data"
    }
   ],
   "source": [
    "A = y_test\n",
    "B = y_pred\n",
    "plt.rcParams['figure.figsize'] = 15,8\n",
    "plt.figure()\n",
    "plt.plot(A[-100:], label=\"Actual\")\n",
    "plt.plot(B[-100:], label=\"Predicted\")\n",
    "plt.legend()\n",
    "plt.xticks(())\n",
    "plt.show()"
   ]
  },
  {
   "cell_type": "markdown",
   "metadata": {},
   "source": [
    "## Predicting on our own value of attributes"
   ]
  },
  {
   "cell_type": "code",
   "execution_count": 63,
   "metadata": {},
   "outputs": [
    {
     "name": "stdout",
     "output_type": "stream",
     "text": [
      "        0     1     2    3     4       5    6    7  8\n",
      "0  2015.0  10.0  18.0  4.0  17.0  1018.8  0.0  2.4  4\n",
      "predicted: [48.62904039]\n"
     ]
    }
   ],
   "source": [
    "testSet = [[2015.0, 10.0, 18.0, 4.0, 17.0, 1018.8, 0.0, 2.4, 4]]\n",
    "test = pd.DataFrame(testSet)\n",
    "print(test)\n",
    "print(\"predicted:\", reg.predict(test))"
   ]
  },
  {
   "cell_type": "markdown",
   "metadata": {},
   "source": [
    "## Evaluation of the model"
   ]
  },
  {
   "cell_type": "code",
   "execution_count": 64,
   "metadata": {},
   "outputs": [
    {
     "name": "stdout",
     "output_type": "stream",
     "text": [
      "49.90932640569768\n",
      "5881.666148921994\n",
      "6.7913298202087695\n"
     ]
    }
   ],
   "source": [
    "from sklearn.metrics import mean_absolute_error\n",
    "from sklearn.metrics import mean_squared_error\n",
    "from sklearn.metrics import r2_score\n",
    "\n",
    "print(mean_absolute_error(y_test, y_pred))\n",
    "\n",
    "print(mean_squared_error(y_test, y_pred))\n",
    "\n",
    "print(r2_score(y_test, y_pred)*100)"
   ]
  },
  {
   "cell_type": "markdown",
   "metadata": {},
   "source": [
    "# DAY-7\n",
    "# Task:\n",
    "Predict PM 2.5 value in all the rows of test dataset.\n",
    "\n",
    "In column PM 2.5 fill the predicted values and then rename dataset to test-dataset-<your team name>.csv \n",
    "\n",
    "Upload the renamed dataset and code on GitHub. "
   ]
  },
  {
   "cell_type": "code",
   "execution_count": 65,
   "metadata": {},
   "outputs": [
    {
     "data": {
      "text/html": [
       "<div>\n",
       "<style scoped>\n",
       "    .dataframe tbody tr th:only-of-type {\n",
       "        vertical-align: middle;\n",
       "    }\n",
       "\n",
       "    .dataframe tbody tr th {\n",
       "        vertical-align: top;\n",
       "    }\n",
       "\n",
       "    .dataframe thead th {\n",
       "        text-align: right;\n",
       "    }\n",
       "</style>\n",
       "<table border=\"1\" class=\"dataframe\">\n",
       "  <thead>\n",
       "    <tr style=\"text-align: right;\">\n",
       "      <th></th>\n",
       "      <th>year</th>\n",
       "      <th>month</th>\n",
       "      <th>day</th>\n",
       "      <th>hour</th>\n",
       "      <th>temperature</th>\n",
       "      <th>pressure</th>\n",
       "      <th>rain</th>\n",
       "      <th>wind_direction</th>\n",
       "      <th>wind_speed</th>\n",
       "      <th>PM2.5</th>\n",
       "    </tr>\n",
       "  </thead>\n",
       "  <tbody>\n",
       "    <tr>\n",
       "      <th>0</th>\n",
       "      <td>2016</td>\n",
       "      <td>8</td>\n",
       "      <td>2</td>\n",
       "      <td>21</td>\n",
       "      <td>30.6</td>\n",
       "      <td>1005.2</td>\n",
       "      <td>0.0</td>\n",
       "      <td>S</td>\n",
       "      <td>1.3</td>\n",
       "      <td>NaN</td>\n",
       "    </tr>\n",
       "    <tr>\n",
       "      <th>1</th>\n",
       "      <td>2016</td>\n",
       "      <td>8</td>\n",
       "      <td>5</td>\n",
       "      <td>11</td>\n",
       "      <td>31.1</td>\n",
       "      <td>1006.2</td>\n",
       "      <td>0.0</td>\n",
       "      <td>ENE</td>\n",
       "      <td>2.2</td>\n",
       "      <td>NaN</td>\n",
       "    </tr>\n",
       "    <tr>\n",
       "      <th>2</th>\n",
       "      <td>2016</td>\n",
       "      <td>8</td>\n",
       "      <td>5</td>\n",
       "      <td>12</td>\n",
       "      <td>31.5</td>\n",
       "      <td>1005.9</td>\n",
       "      <td>0.0</td>\n",
       "      <td>ESE</td>\n",
       "      <td>2.2</td>\n",
       "      <td>NaN</td>\n",
       "    </tr>\n",
       "    <tr>\n",
       "      <th>3</th>\n",
       "      <td>2016</td>\n",
       "      <td>8</td>\n",
       "      <td>6</td>\n",
       "      <td>4</td>\n",
       "      <td>26.8</td>\n",
       "      <td>1002.9</td>\n",
       "      <td>0.0</td>\n",
       "      <td>SW</td>\n",
       "      <td>0.2</td>\n",
       "      <td>NaN</td>\n",
       "    </tr>\n",
       "    <tr>\n",
       "      <th>4</th>\n",
       "      <td>2016</td>\n",
       "      <td>8</td>\n",
       "      <td>6</td>\n",
       "      <td>10</td>\n",
       "      <td>30.8</td>\n",
       "      <td>1002.4</td>\n",
       "      <td>0.0</td>\n",
       "      <td>ENE</td>\n",
       "      <td>1.1</td>\n",
       "      <td>NaN</td>\n",
       "    </tr>\n",
       "    <tr>\n",
       "      <th>5</th>\n",
       "      <td>2016</td>\n",
       "      <td>8</td>\n",
       "      <td>7</td>\n",
       "      <td>8</td>\n",
       "      <td>24.0</td>\n",
       "      <td>1004.5</td>\n",
       "      <td>3.2</td>\n",
       "      <td>ENE</td>\n",
       "      <td>2.1</td>\n",
       "      <td>NaN</td>\n",
       "    </tr>\n",
       "    <tr>\n",
       "      <th>6</th>\n",
       "      <td>2016</td>\n",
       "      <td>8</td>\n",
       "      <td>7</td>\n",
       "      <td>20</td>\n",
       "      <td>29.6</td>\n",
       "      <td>1004.6</td>\n",
       "      <td>0.0</td>\n",
       "      <td>S</td>\n",
       "      <td>0.9</td>\n",
       "      <td>NaN</td>\n",
       "    </tr>\n",
       "    <tr>\n",
       "      <th>7</th>\n",
       "      <td>2016</td>\n",
       "      <td>8</td>\n",
       "      <td>8</td>\n",
       "      <td>18</td>\n",
       "      <td>31.6</td>\n",
       "      <td>1003.9</td>\n",
       "      <td>0.0</td>\n",
       "      <td>SE</td>\n",
       "      <td>2.4</td>\n",
       "      <td>NaN</td>\n",
       "    </tr>\n",
       "    <tr>\n",
       "      <th>8</th>\n",
       "      <td>2016</td>\n",
       "      <td>8</td>\n",
       "      <td>9</td>\n",
       "      <td>4</td>\n",
       "      <td>21.9</td>\n",
       "      <td>1004.8</td>\n",
       "      <td>0.0</td>\n",
       "      <td>ENE</td>\n",
       "      <td>0.5</td>\n",
       "      <td>NaN</td>\n",
       "    </tr>\n",
       "    <tr>\n",
       "      <th>9</th>\n",
       "      <td>2016</td>\n",
       "      <td>8</td>\n",
       "      <td>9</td>\n",
       "      <td>8</td>\n",
       "      <td>27.0</td>\n",
       "      <td>1005.7</td>\n",
       "      <td>0.0</td>\n",
       "      <td>NE</td>\n",
       "      <td>1.3</td>\n",
       "      <td>NaN</td>\n",
       "    </tr>\n",
       "  </tbody>\n",
       "</table>\n",
       "</div>"
      ],
      "text/plain": [
       "   year  month  day  hour  temperature  pressure  rain wind_direction  \\\n",
       "0  2016      8    2    21         30.6    1005.2   0.0              S   \n",
       "1  2016      8    5    11         31.1    1006.2   0.0            ENE   \n",
       "2  2016      8    5    12         31.5    1005.9   0.0            ESE   \n",
       "3  2016      8    6     4         26.8    1002.9   0.0             SW   \n",
       "4  2016      8    6    10         30.8    1002.4   0.0            ENE   \n",
       "5  2016      8    7     8         24.0    1004.5   3.2            ENE   \n",
       "6  2016      8    7    20         29.6    1004.6   0.0              S   \n",
       "7  2016      8    8    18         31.6    1003.9   0.0             SE   \n",
       "8  2016      8    9     4         21.9    1004.8   0.0            ENE   \n",
       "9  2016      8    9     8         27.0    1005.7   0.0             NE   \n",
       "\n",
       "   wind_speed  PM2.5  \n",
       "0         1.3    NaN  \n",
       "1         2.2    NaN  \n",
       "2         2.2    NaN  \n",
       "3         0.2    NaN  \n",
       "4         1.1    NaN  \n",
       "5         2.1    NaN  \n",
       "6         0.9    NaN  \n",
       "7         2.4    NaN  \n",
       "8         0.5    NaN  \n",
       "9         1.3    NaN  "
      ]
     },
     "execution_count": 65,
     "metadata": {},
     "output_type": "execute_result"
    }
   ],
   "source": [
    "test = pd.read_csv(\"test_dataset.csv\")\n",
    "test.head(10)"
   ]
  },
  {
   "cell_type": "code",
   "execution_count": 66,
   "metadata": {},
   "outputs": [
    {
     "data": {
      "text/plain": [
       "year                 0\n",
       "month                0\n",
       "day                  0\n",
       "hour                 0\n",
       "temperature          9\n",
       "pressure             9\n",
       "rain                 9\n",
       "wind_direction      38\n",
       "wind_speed           4\n",
       "PM2.5             2612\n",
       "dtype: int64"
      ]
     },
     "execution_count": 66,
     "metadata": {},
     "output_type": "execute_result"
    }
   ],
   "source": [
    "test.isnull().sum()"
   ]
  },
  {
   "cell_type": "code",
   "execution_count": 67,
   "metadata": {},
   "outputs": [],
   "source": [
    "test['temperature'].interpolate(method='linear', direction = 'both', inplace=True) \n",
    "test['pressure'].interpolate(method='linear', direction = 'both', inplace=True) \n",
    "test['rain'].interpolate(method='linear', direction = 'both', inplace=True) \n",
    "test[\"wind_speed\"].fillna(test[\"wind_speed\"].mean(),inplace=True)"
   ]
  },
  {
   "cell_type": "code",
   "execution_count": 68,
   "metadata": {},
   "outputs": [
    {
     "data": {
      "text/plain": [
       "NE     545\n",
       "ENE    295\n",
       "SW     242\n",
       "NW     241\n",
       "E      193\n",
       "NNW    152\n",
       "ESE    140\n",
       "NNE    139\n",
       "SE     128\n",
       "N      110\n",
       "WSW     91\n",
       "S       73\n",
       "SSW     67\n",
       "SSE     62\n",
       "W       51\n",
       "WNW     45\n",
       "Name: wind_direction, dtype: int64"
      ]
     },
     "execution_count": 68,
     "metadata": {},
     "output_type": "execute_result"
    }
   ],
   "source": [
    "index = test[\"wind_direction\"]\n",
    "index.value_counts()"
   ]
  },
  {
   "cell_type": "code",
   "execution_count": 69,
   "metadata": {},
   "outputs": [],
   "source": [
    "test[\"wind_direction\"] = test[\"wind_direction\"].fillna(\"NE\")"
   ]
  },
  {
   "cell_type": "code",
   "execution_count": 70,
   "metadata": {},
   "outputs": [
    {
     "data": {
      "text/plain": [
       "year                 0\n",
       "month                0\n",
       "day                  0\n",
       "hour                 0\n",
       "temperature          0\n",
       "pressure             0\n",
       "rain                 0\n",
       "wind_direction       0\n",
       "wind_speed           0\n",
       "PM2.5             2612\n",
       "dtype: int64"
      ]
     },
     "execution_count": 70,
     "metadata": {},
     "output_type": "execute_result"
    }
   ],
   "source": [
    "test.isnull().sum()"
   ]
  },
  {
   "cell_type": "code",
   "execution_count": 71,
   "metadata": {},
   "outputs": [
    {
     "data": {
      "text/plain": [
       "4     583\n",
       "1     295\n",
       "12    242\n",
       "7     241\n",
       "0     193\n",
       "6     152\n",
       "2     140\n",
       "5     139\n",
       "9     128\n",
       "3     110\n",
       "15     91\n",
       "8      73\n",
       "11     67\n",
       "10     62\n",
       "13     51\n",
       "14     45\n",
       "Name: wind_direction, dtype: int64"
      ]
     },
     "execution_count": 71,
     "metadata": {},
     "output_type": "execute_result"
    }
   ],
   "source": [
    "label=le.fit_transform(test[\"wind_direction\"])\n",
    "test[\"wind_direction\"]=label\n",
    "test[\"wind_direction\"].value_counts()"
   ]
  },
  {
   "cell_type": "code",
   "execution_count": 72,
   "metadata": {},
   "outputs": [
    {
     "data": {
      "text/html": [
       "<div>\n",
       "<style scoped>\n",
       "    .dataframe tbody tr th:only-of-type {\n",
       "        vertical-align: middle;\n",
       "    }\n",
       "\n",
       "    .dataframe tbody tr th {\n",
       "        vertical-align: top;\n",
       "    }\n",
       "\n",
       "    .dataframe thead th {\n",
       "        text-align: right;\n",
       "    }\n",
       "</style>\n",
       "<table border=\"1\" class=\"dataframe\">\n",
       "  <thead>\n",
       "    <tr style=\"text-align: right;\">\n",
       "      <th></th>\n",
       "      <th>year</th>\n",
       "      <th>month</th>\n",
       "      <th>day</th>\n",
       "      <th>hour</th>\n",
       "      <th>wind_speed</th>\n",
       "      <th>wind_direction</th>\n",
       "      <th>pressure</th>\n",
       "      <th>rain</th>\n",
       "      <th>temperature</th>\n",
       "    </tr>\n",
       "  </thead>\n",
       "  <tbody>\n",
       "    <tr>\n",
       "      <th>0</th>\n",
       "      <td>2016</td>\n",
       "      <td>8</td>\n",
       "      <td>2</td>\n",
       "      <td>21</td>\n",
       "      <td>1.3</td>\n",
       "      <td>8</td>\n",
       "      <td>1005.2</td>\n",
       "      <td>0.0</td>\n",
       "      <td>30.6</td>\n",
       "    </tr>\n",
       "    <tr>\n",
       "      <th>1</th>\n",
       "      <td>2016</td>\n",
       "      <td>8</td>\n",
       "      <td>5</td>\n",
       "      <td>11</td>\n",
       "      <td>2.2</td>\n",
       "      <td>1</td>\n",
       "      <td>1006.2</td>\n",
       "      <td>0.0</td>\n",
       "      <td>31.1</td>\n",
       "    </tr>\n",
       "    <tr>\n",
       "      <th>2</th>\n",
       "      <td>2016</td>\n",
       "      <td>8</td>\n",
       "      <td>5</td>\n",
       "      <td>12</td>\n",
       "      <td>2.2</td>\n",
       "      <td>2</td>\n",
       "      <td>1005.9</td>\n",
       "      <td>0.0</td>\n",
       "      <td>31.5</td>\n",
       "    </tr>\n",
       "    <tr>\n",
       "      <th>3</th>\n",
       "      <td>2016</td>\n",
       "      <td>8</td>\n",
       "      <td>6</td>\n",
       "      <td>4</td>\n",
       "      <td>0.2</td>\n",
       "      <td>12</td>\n",
       "      <td>1002.9</td>\n",
       "      <td>0.0</td>\n",
       "      <td>26.8</td>\n",
       "    </tr>\n",
       "    <tr>\n",
       "      <th>4</th>\n",
       "      <td>2016</td>\n",
       "      <td>8</td>\n",
       "      <td>6</td>\n",
       "      <td>10</td>\n",
       "      <td>1.1</td>\n",
       "      <td>1</td>\n",
       "      <td>1002.4</td>\n",
       "      <td>0.0</td>\n",
       "      <td>30.8</td>\n",
       "    </tr>\n",
       "    <tr>\n",
       "      <th>...</th>\n",
       "      <td>...</td>\n",
       "      <td>...</td>\n",
       "      <td>...</td>\n",
       "      <td>...</td>\n",
       "      <td>...</td>\n",
       "      <td>...</td>\n",
       "      <td>...</td>\n",
       "      <td>...</td>\n",
       "      <td>...</td>\n",
       "    </tr>\n",
       "    <tr>\n",
       "      <th>2607</th>\n",
       "      <td>2017</td>\n",
       "      <td>2</td>\n",
       "      <td>28</td>\n",
       "      <td>19</td>\n",
       "      <td>2.4</td>\n",
       "      <td>7</td>\n",
       "      <td>1013.5</td>\n",
       "      <td>0.0</td>\n",
       "      <td>12.5</td>\n",
       "    </tr>\n",
       "    <tr>\n",
       "      <th>2608</th>\n",
       "      <td>2017</td>\n",
       "      <td>2</td>\n",
       "      <td>28</td>\n",
       "      <td>20</td>\n",
       "      <td>0.9</td>\n",
       "      <td>14</td>\n",
       "      <td>1013.6</td>\n",
       "      <td>0.0</td>\n",
       "      <td>11.6</td>\n",
       "    </tr>\n",
       "    <tr>\n",
       "      <th>2609</th>\n",
       "      <td>2017</td>\n",
       "      <td>2</td>\n",
       "      <td>28</td>\n",
       "      <td>21</td>\n",
       "      <td>1.1</td>\n",
       "      <td>7</td>\n",
       "      <td>1014.2</td>\n",
       "      <td>0.0</td>\n",
       "      <td>10.8</td>\n",
       "    </tr>\n",
       "    <tr>\n",
       "      <th>2610</th>\n",
       "      <td>2017</td>\n",
       "      <td>2</td>\n",
       "      <td>28</td>\n",
       "      <td>22</td>\n",
       "      <td>1.2</td>\n",
       "      <td>6</td>\n",
       "      <td>1014.4</td>\n",
       "      <td>0.0</td>\n",
       "      <td>10.5</td>\n",
       "    </tr>\n",
       "    <tr>\n",
       "      <th>2611</th>\n",
       "      <td>2017</td>\n",
       "      <td>2</td>\n",
       "      <td>28</td>\n",
       "      <td>23</td>\n",
       "      <td>1.3</td>\n",
       "      <td>5</td>\n",
       "      <td>1014.1</td>\n",
       "      <td>0.0</td>\n",
       "      <td>8.6</td>\n",
       "    </tr>\n",
       "  </tbody>\n",
       "</table>\n",
       "<p>2612 rows × 9 columns</p>\n",
       "</div>"
      ],
      "text/plain": [
       "      year  month  day  hour  wind_speed  wind_direction  pressure  rain  \\\n",
       "0     2016      8    2    21         1.3               8    1005.2   0.0   \n",
       "1     2016      8    5    11         2.2               1    1006.2   0.0   \n",
       "2     2016      8    5    12         2.2               2    1005.9   0.0   \n",
       "3     2016      8    6     4         0.2              12    1002.9   0.0   \n",
       "4     2016      8    6    10         1.1               1    1002.4   0.0   \n",
       "...    ...    ...  ...   ...         ...             ...       ...   ...   \n",
       "2607  2017      2   28    19         2.4               7    1013.5   0.0   \n",
       "2608  2017      2   28    20         0.9              14    1013.6   0.0   \n",
       "2609  2017      2   28    21         1.1               7    1014.2   0.0   \n",
       "2610  2017      2   28    22         1.2               6    1014.4   0.0   \n",
       "2611  2017      2   28    23         1.3               5    1014.1   0.0   \n",
       "\n",
       "      temperature  \n",
       "0            30.6  \n",
       "1            31.1  \n",
       "2            31.5  \n",
       "3            26.8  \n",
       "4            30.8  \n",
       "...           ...  \n",
       "2607         12.5  \n",
       "2608         11.6  \n",
       "2609         10.8  \n",
       "2610         10.5  \n",
       "2611          8.6  \n",
       "\n",
       "[2612 rows x 9 columns]"
      ]
     },
     "execution_count": 72,
     "metadata": {},
     "output_type": "execute_result"
    }
   ],
   "source": [
    "X= test.copy()\n",
    "\n",
    "X=X.drop(columns=[\"PM2.5\"])\n",
    "X=X.reindex([\"year\",\"month\",\"day\",\"hour\", \"wind_speed\",\"wind_direction\",\"pressure\",'rain',\"temperature\"],axis=1)\n",
    "X"
   ]
  },
  {
   "cell_type": "code",
   "execution_count": 73,
   "metadata": {},
   "outputs": [],
   "source": [
    "Y= reg.predict(X)"
   ]
  },
  {
   "cell_type": "code",
   "execution_count": 74,
   "metadata": {},
   "outputs": [],
   "source": [
    "test[\"PM2.5\"]=Y.astype(\"int\")"
   ]
  },
  {
   "cell_type": "code",
   "execution_count": 75,
   "metadata": {},
   "outputs": [],
   "source": [
    "test.to_csv(\"test_predicted.csv\")"
   ]
  },
  {
   "cell_type": "code",
   "execution_count": 76,
   "metadata": {},
   "outputs": [
    {
     "name": "stdout",
     "output_type": "stream",
     "text": [
      "<class 'pandas.core.frame.DataFrame'>\n",
      "RangeIndex: 2612 entries, 0 to 2611\n",
      "Data columns (total 10 columns):\n",
      " #   Column          Non-Null Count  Dtype  \n",
      "---  ------          --------------  -----  \n",
      " 0   year            2612 non-null   int64  \n",
      " 1   month           2612 non-null   int64  \n",
      " 2   day             2612 non-null   int64  \n",
      " 3   hour            2612 non-null   int64  \n",
      " 4   temperature     2612 non-null   float64\n",
      " 5   pressure        2612 non-null   float64\n",
      " 6   rain            2612 non-null   float64\n",
      " 7   wind_direction  2612 non-null   int32  \n",
      " 8   wind_speed      2612 non-null   float64\n",
      " 9   PM2.5           2612 non-null   int32  \n",
      "dtypes: float64(4), int32(2), int64(4)\n",
      "memory usage: 183.8 KB\n"
     ]
    }
   ],
   "source": [
    "test.info()"
   ]
  },
  {
   "cell_type": "markdown",
   "metadata": {},
   "source": [
    "# Day 8 - Day 9: Deployment and pushing the code on GitHub\n",
    "\n",
    "## TASK\n",
    "Deploy your model on web using flask. We have provided the resources for the same. \n",
    "The page should consist input boxes/entries and then will display the Predicted value on the same page.\n",
    "\n",
    "Keep in mind that there should be entries for all the columns.\n",
    "\n",
    "The deadline for the task is 21 September 8 AM.\n",
    "\n",
    "You should upload the code for the deployment and the link of the web page where you have deployed the model.\n"
   ]
  },
  {
   "cell_type": "code",
   "execution_count": 77,
   "metadata": {},
   "outputs": [],
   "source": [
    "import pickle\n",
    "filename='model.pkl'\n",
    "pickle.dump(reg, open(filename, 'wb'))"
   ]
  }
 ],
 "metadata": {
  "kernelspec": {
   "display_name": "Python 3 (ipykernel)",
   "language": "python",
   "name": "python3"
  },
  "language_info": {
   "codemirror_mode": {
    "name": "ipython",
    "version": 3
   },
   "file_extension": ".py",
   "mimetype": "text/x-python",
   "name": "python",
   "nbconvert_exporter": "python",
   "pygments_lexer": "ipython3",
   "version": "3.8.11"
  }
 },
 "nbformat": 4,
 "nbformat_minor": 4
}
