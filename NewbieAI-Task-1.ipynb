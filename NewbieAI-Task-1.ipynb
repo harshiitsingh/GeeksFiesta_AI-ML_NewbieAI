{
 "cells": [
  {
   "cell_type": "markdown",
   "metadata": {},
   "source": [
    "# DAY-1\n",
    "# TASK-1: Data Cleaning, find count of missing values in each column, describe the dataset (mean,median etc )."
   ]
  },
  {
   "cell_type": "code",
   "execution_count": 1,
   "metadata": {},
   "outputs": [],
   "source": [
    "# importing libraries\n",
    "import numpy as np\n",
    "import pandas as pd"
   ]
  },
  {
   "cell_type": "code",
   "execution_count": 2,
   "metadata": {},
   "outputs": [
    {
     "data": {
      "text/html": [
       "<div>\n",
       "<style scoped>\n",
       "    .dataframe tbody tr th:only-of-type {\n",
       "        vertical-align: middle;\n",
       "    }\n",
       "\n",
       "    .dataframe tbody tr th {\n",
       "        vertical-align: top;\n",
       "    }\n",
       "\n",
       "    .dataframe thead th {\n",
       "        text-align: right;\n",
       "    }\n",
       "</style>\n",
       "<table border=\"1\" class=\"dataframe\">\n",
       "  <thead>\n",
       "    <tr style=\"text-align: right;\">\n",
       "      <th></th>\n",
       "      <th>Unnamed: 0</th>\n",
       "      <th>year</th>\n",
       "      <th>month</th>\n",
       "      <th>day</th>\n",
       "      <th>hour</th>\n",
       "      <th>PM2.5</th>\n",
       "      <th>temperature</th>\n",
       "      <th>pressure</th>\n",
       "      <th>rain</th>\n",
       "      <th>wind_direction</th>\n",
       "      <th>wind_speed</th>\n",
       "    </tr>\n",
       "  </thead>\n",
       "  <tbody>\n",
       "    <tr>\n",
       "      <th>0</th>\n",
       "      <td>0</td>\n",
       "      <td>2013</td>\n",
       "      <td>-37.0</td>\n",
       "      <td>1.0</td>\n",
       "      <td>0.0</td>\n",
       "      <td>4.0</td>\n",
       "      <td>-0.7</td>\n",
       "      <td>102-37</td>\n",
       "      <td>0.0</td>\n",
       "      <td>NNW</td>\n",
       "      <td>4.4</td>\n",
       "    </tr>\n",
       "    <tr>\n",
       "      <th>1</th>\n",
       "      <td>1</td>\n",
       "      <td>201-37</td>\n",
       "      <td>-37.0</td>\n",
       "      <td>1.0</td>\n",
       "      <td>1.0</td>\n",
       "      <td>8.0</td>\n",
       "      <td>-1.1</td>\n",
       "      <td>1023.2</td>\n",
       "      <td>0.0</td>\n",
       "      <td>N</td>\n",
       "      <td>NaN</td>\n",
       "    </tr>\n",
       "    <tr>\n",
       "      <th>2</th>\n",
       "      <td>2</td>\n",
       "      <td>2013</td>\n",
       "      <td>3.0</td>\n",
       "      <td>1.0</td>\n",
       "      <td>2.0</td>\n",
       "      <td>7.0</td>\n",
       "      <td>-1.1</td>\n",
       "      <td>1023.5</td>\n",
       "      <td>0.0</td>\n",
       "      <td>NNW</td>\n",
       "      <td>5.6</td>\n",
       "    </tr>\n",
       "    <tr>\n",
       "      <th>3</th>\n",
       "      <td>3</td>\n",
       "      <td>2013</td>\n",
       "      <td>3.0</td>\n",
       "      <td>1.0</td>\n",
       "      <td>3.0</td>\n",
       "      <td>6.0</td>\n",
       "      <td>-1.4</td>\n",
       "      <td>1024.5</td>\n",
       "      <td>0.0</td>\n",
       "      <td>NW</td>\n",
       "      <td>3.1</td>\n",
       "    </tr>\n",
       "    <tr>\n",
       "      <th>4</th>\n",
       "      <td>4</td>\n",
       "      <td>2013</td>\n",
       "      <td>3.0</td>\n",
       "      <td>1.0</td>\n",
       "      <td>4.0</td>\n",
       "      <td>3.0</td>\n",
       "      <td>-2.0</td>\n",
       "      <td>1025.2</td>\n",
       "      <td>0.0</td>\n",
       "      <td>N</td>\n",
       "      <td>2.0</td>\n",
       "    </tr>\n",
       "  </tbody>\n",
       "</table>\n",
       "</div>"
      ],
      "text/plain": [
       "   Unnamed: 0    year  month  day  hour  PM2.5  temperature pressure  rain  \\\n",
       "0           0    2013  -37.0  1.0   0.0    4.0         -0.7   102-37   0.0   \n",
       "1           1  201-37  -37.0  1.0   1.0    8.0         -1.1   1023.2   0.0   \n",
       "2           2    2013    3.0  1.0   2.0    7.0         -1.1   1023.5   0.0   \n",
       "3           3    2013    3.0  1.0   3.0    6.0         -1.4   1024.5   0.0   \n",
       "4           4    2013    3.0  1.0   4.0    3.0         -2.0   1025.2   0.0   \n",
       "\n",
       "  wind_direction  wind_speed  \n",
       "0            NNW         4.4  \n",
       "1              N         NaN  \n",
       "2            NNW         5.6  \n",
       "3             NW         3.1  \n",
       "4              N         2.0  "
      ]
     },
     "execution_count": 2,
     "metadata": {},
     "output_type": "execute_result"
    }
   ],
   "source": [
    "# url = \"https://docs.google.com/spreadsheets/d/1GcYSfR0ox26Tc-7-8AhLA3Pgx2X1o9IKK-WDL5rDNa4/edit#gid=1426969578\"\n",
    "data = pd.read_csv('train - train (2).csv')\n",
    "data.head()"
   ]
  },
  {
   "cell_type": "code",
   "execution_count": 3,
   "metadata": {},
   "outputs": [
    {
     "data": {
      "text/plain": [
       "(31527, 11)"
      ]
     },
     "execution_count": 3,
     "metadata": {},
     "output_type": "execute_result"
    }
   ],
   "source": [
    "data.shape"
   ]
  },
  {
   "cell_type": "code",
   "execution_count": 4,
   "metadata": {},
   "outputs": [
    {
     "name": "stdout",
     "output_type": "stream",
     "text": [
      "<class 'pandas.core.frame.DataFrame'>\n",
      "RangeIndex: 31527 entries, 0 to 31526\n",
      "Data columns (total 11 columns):\n",
      " #   Column          Non-Null Count  Dtype  \n",
      "---  ------          --------------  -----  \n",
      " 0   Unnamed: 0      31527 non-null  int64  \n",
      " 1   year            31512 non-null  object \n",
      " 2   month           31521 non-null  float64\n",
      " 3   day             31507 non-null  float64\n",
      " 4   hour            31519 non-null  float64\n",
      " 5   PM2.5           31513 non-null  float64\n",
      " 6   temperature     31508 non-null  float64\n",
      " 7   pressure        31500 non-null  object \n",
      " 8   rain            31515 non-null  float64\n",
      " 9   wind_direction  31467 non-null  object \n",
      " 10  wind_speed      31502 non-null  float64\n",
      "dtypes: float64(7), int64(1), object(3)\n",
      "memory usage: 2.6+ MB\n"
     ]
    }
   ],
   "source": [
    "# collecting info about data, how many null or non-null values, what's the data type of the parameters\n",
    "data.info()"
   ]
  },
  {
   "cell_type": "code",
   "execution_count": 5,
   "metadata": {},
   "outputs": [],
   "source": [
    "# data['year'] = data['year'].astype(float)"
   ]
  },
  {
   "cell_type": "code",
   "execution_count": 6,
   "metadata": {},
   "outputs": [
    {
     "data": {
      "text/plain": [
       "Unnamed: 0         0\n",
       "year              15\n",
       "month              6\n",
       "day               20\n",
       "hour               8\n",
       "PM2.5             14\n",
       "temperature       19\n",
       "pressure          27\n",
       "rain              12\n",
       "wind_direction    60\n",
       "wind_speed        25\n",
       "dtype: int64"
      ]
     },
     "execution_count": 6,
     "metadata": {},
     "output_type": "execute_result"
    }
   ],
   "source": [
    "# get the number of missing data points per column\n",
    "data.isnull().sum()"
   ]
  },
  {
   "cell_type": "code",
   "execution_count": 7,
   "metadata": {},
   "outputs": [],
   "source": [
    "newdata = data"
   ]
  },
  {
   "cell_type": "code",
   "execution_count": 8,
   "metadata": {},
   "outputs": [
    {
     "data": {
      "text/html": [
       "<div>\n",
       "<style scoped>\n",
       "    .dataframe tbody tr th:only-of-type {\n",
       "        vertical-align: middle;\n",
       "    }\n",
       "\n",
       "    .dataframe tbody tr th {\n",
       "        vertical-align: top;\n",
       "    }\n",
       "\n",
       "    .dataframe thead th {\n",
       "        text-align: right;\n",
       "    }\n",
       "</style>\n",
       "<table border=\"1\" class=\"dataframe\">\n",
       "  <thead>\n",
       "    <tr style=\"text-align: right;\">\n",
       "      <th></th>\n",
       "      <th>year</th>\n",
       "      <th>month</th>\n",
       "      <th>day</th>\n",
       "      <th>hour</th>\n",
       "      <th>PM2.5</th>\n",
       "      <th>temperature</th>\n",
       "      <th>pressure</th>\n",
       "      <th>rain</th>\n",
       "      <th>wind_direction</th>\n",
       "      <th>wind_speed</th>\n",
       "    </tr>\n",
       "  </thead>\n",
       "  <tbody>\n",
       "    <tr>\n",
       "      <th>0</th>\n",
       "      <td>2013</td>\n",
       "      <td>-37.0</td>\n",
       "      <td>1.0</td>\n",
       "      <td>0.0</td>\n",
       "      <td>4.0</td>\n",
       "      <td>-0.7</td>\n",
       "      <td>102-37</td>\n",
       "      <td>0.0</td>\n",
       "      <td>NNW</td>\n",
       "      <td>4.4</td>\n",
       "    </tr>\n",
       "    <tr>\n",
       "      <th>1</th>\n",
       "      <td>201-37</td>\n",
       "      <td>-37.0</td>\n",
       "      <td>1.0</td>\n",
       "      <td>1.0</td>\n",
       "      <td>8.0</td>\n",
       "      <td>-1.1</td>\n",
       "      <td>1023.2</td>\n",
       "      <td>0.0</td>\n",
       "      <td>N</td>\n",
       "      <td>NaN</td>\n",
       "    </tr>\n",
       "    <tr>\n",
       "      <th>2</th>\n",
       "      <td>2013</td>\n",
       "      <td>3.0</td>\n",
       "      <td>1.0</td>\n",
       "      <td>2.0</td>\n",
       "      <td>7.0</td>\n",
       "      <td>-1.1</td>\n",
       "      <td>1023.5</td>\n",
       "      <td>0.0</td>\n",
       "      <td>NNW</td>\n",
       "      <td>5.6</td>\n",
       "    </tr>\n",
       "    <tr>\n",
       "      <th>3</th>\n",
       "      <td>2013</td>\n",
       "      <td>3.0</td>\n",
       "      <td>1.0</td>\n",
       "      <td>3.0</td>\n",
       "      <td>6.0</td>\n",
       "      <td>-1.4</td>\n",
       "      <td>1024.5</td>\n",
       "      <td>0.0</td>\n",
       "      <td>NW</td>\n",
       "      <td>3.1</td>\n",
       "    </tr>\n",
       "    <tr>\n",
       "      <th>4</th>\n",
       "      <td>2013</td>\n",
       "      <td>3.0</td>\n",
       "      <td>1.0</td>\n",
       "      <td>4.0</td>\n",
       "      <td>3.0</td>\n",
       "      <td>-2.0</td>\n",
       "      <td>1025.2</td>\n",
       "      <td>0.0</td>\n",
       "      <td>N</td>\n",
       "      <td>2.0</td>\n",
       "    </tr>\n",
       "    <tr>\n",
       "      <th>...</th>\n",
       "      <td>...</td>\n",
       "      <td>...</td>\n",
       "      <td>...</td>\n",
       "      <td>...</td>\n",
       "      <td>...</td>\n",
       "      <td>...</td>\n",
       "      <td>...</td>\n",
       "      <td>...</td>\n",
       "      <td>...</td>\n",
       "      <td>...</td>\n",
       "    </tr>\n",
       "    <tr>\n",
       "      <th>31522</th>\n",
       "      <td>2017</td>\n",
       "      <td>2.0</td>\n",
       "      <td>27.0</td>\n",
       "      <td>6.0</td>\n",
       "      <td>80.0</td>\n",
       "      <td>-0.3</td>\n",
       "      <td>1019.4</td>\n",
       "      <td>0.0</td>\n",
       "      <td>ENE</td>\n",
       "      <td>0.8</td>\n",
       "    </tr>\n",
       "    <tr>\n",
       "      <th>31523</th>\n",
       "      <td>2017</td>\n",
       "      <td>2.0</td>\n",
       "      <td>27.0</td>\n",
       "      <td>16.0</td>\n",
       "      <td>75.0</td>\n",
       "      <td>15.9</td>\n",
       "      <td>1014</td>\n",
       "      <td>0.0</td>\n",
       "      <td>SW</td>\n",
       "      <td>2.9</td>\n",
       "    </tr>\n",
       "    <tr>\n",
       "      <th>31524</th>\n",
       "      <td>2017</td>\n",
       "      <td>2.0</td>\n",
       "      <td>27.0</td>\n",
       "      <td>19.0</td>\n",
       "      <td>51.0</td>\n",
       "      <td>11.5</td>\n",
       "      <td>1014.1</td>\n",
       "      <td>0.0</td>\n",
       "      <td>SSW</td>\n",
       "      <td>1.0</td>\n",
       "    </tr>\n",
       "    <tr>\n",
       "      <th>31525</th>\n",
       "      <td>2017</td>\n",
       "      <td>2.0</td>\n",
       "      <td>28.0</td>\n",
       "      <td>2.0</td>\n",
       "      <td>9.0</td>\n",
       "      <td>8.6</td>\n",
       "      <td>1016</td>\n",
       "      <td>0.0</td>\n",
       "      <td>NNE</td>\n",
       "      <td>0.9</td>\n",
       "    </tr>\n",
       "    <tr>\n",
       "      <th>31526</th>\n",
       "      <td>2017</td>\n",
       "      <td>2.0</td>\n",
       "      <td>28.0</td>\n",
       "      <td>14.0</td>\n",
       "      <td>5.0</td>\n",
       "      <td>14.6</td>\n",
       "      <td>1013.3</td>\n",
       "      <td>0.0</td>\n",
       "      <td>N</td>\n",
       "      <td>3.6</td>\n",
       "    </tr>\n",
       "  </tbody>\n",
       "</table>\n",
       "<p>31527 rows × 10 columns</p>\n",
       "</div>"
      ],
      "text/plain": [
       "         year  month   day  hour  PM2.5  temperature pressure  rain  \\\n",
       "0        2013  -37.0   1.0   0.0    4.0         -0.7   102-37   0.0   \n",
       "1      201-37  -37.0   1.0   1.0    8.0         -1.1   1023.2   0.0   \n",
       "2        2013    3.0   1.0   2.0    7.0         -1.1   1023.5   0.0   \n",
       "3        2013    3.0   1.0   3.0    6.0         -1.4   1024.5   0.0   \n",
       "4        2013    3.0   1.0   4.0    3.0         -2.0   1025.2   0.0   \n",
       "...       ...    ...   ...   ...    ...          ...      ...   ...   \n",
       "31522    2017    2.0  27.0   6.0   80.0         -0.3   1019.4   0.0   \n",
       "31523    2017    2.0  27.0  16.0   75.0         15.9     1014   0.0   \n",
       "31524    2017    2.0  27.0  19.0   51.0         11.5   1014.1   0.0   \n",
       "31525    2017    2.0  28.0   2.0    9.0          8.6     1016   0.0   \n",
       "31526    2017    2.0  28.0  14.0    5.0         14.6   1013.3   0.0   \n",
       "\n",
       "      wind_direction  wind_speed  \n",
       "0                NNW         4.4  \n",
       "1                  N         NaN  \n",
       "2                NNW         5.6  \n",
       "3                 NW         3.1  \n",
       "4                  N         2.0  \n",
       "...              ...         ...  \n",
       "31522            ENE         0.8  \n",
       "31523             SW         2.9  \n",
       "31524            SSW         1.0  \n",
       "31525            NNE         0.9  \n",
       "31526              N         3.6  \n",
       "\n",
       "[31527 rows x 10 columns]"
      ]
     },
     "execution_count": 8,
     "metadata": {},
     "output_type": "execute_result"
    }
   ],
   "source": [
    "# removing the unnamed column because it has no use in the problem\n",
    "newdata.drop(\"Unnamed: 0\", axis = 1, inplace=True)\n",
    "newdata"
   ]
  },
  {
   "cell_type": "markdown",
   "metadata": {},
   "source": [
    "### Correcting and cleaning the column - year"
   ]
  },
  {
   "cell_type": "code",
   "execution_count": 9,
   "metadata": {},
   "outputs": [
    {
     "data": {
      "text/plain": [
       "15"
      ]
     },
     "execution_count": 9,
     "metadata": {},
     "output_type": "execute_result"
    }
   ],
   "source": [
    "newdata.loc[1,'year'] = 2013  # Here I have corrected the wrong data given at row1 in the year column.\n",
    "\n",
    "data['year'] = pd.to_numeric(data['year']) # as from above info function, the year has object datatype \n",
    "# but its not  possible so I have changed it to float.\n",
    "\n",
    "newdata['year'].isnull().sum() # now again checking the null values in year"
   ]
  },
  {
   "cell_type": "code",
   "execution_count": 10,
   "metadata": {},
   "outputs": [
    {
     "data": {
      "text/plain": [
       "0"
      ]
     },
     "execution_count": 10,
     "metadata": {},
     "output_type": "execute_result"
    }
   ],
   "source": [
    "newdata['year'].interpolate(method='linear', direction='both', inplace=True) # as there are 15 null values, therefore\n",
    "# I am interpolating them.\n",
    "\n",
    "newdata['year'].isnull().sum()\n",
    "\n",
    "# or\n",
    "# newdata['year'].select_dtypes(include='int64').interpolate(method='linear', direction='both', inplace=True)"
   ]
  },
  {
   "cell_type": "markdown",
   "metadata": {},
   "source": [
    "### Correcting and cleaning the column - rain"
   ]
  },
  {
   "cell_type": "code",
   "execution_count": 11,
   "metadata": {},
   "outputs": [],
   "source": [
    "# using interpolation method to fill the NAN values, it will fill by finding the mean of just one above and one below data.\n",
    "newdata['rain'].interpolate(method='linear', direction='both', inplace=True)"
   ]
  },
  {
   "cell_type": "markdown",
   "metadata": {},
   "source": [
    "### Correcting and cleaning the column - pressure"
   ]
  },
  {
   "cell_type": "code",
   "execution_count": 12,
   "metadata": {},
   "outputs": [
    {
     "data": {
      "text/plain": [
       "0"
      ]
     },
     "execution_count": 12,
     "metadata": {},
     "output_type": "execute_result"
    }
   ],
   "source": [
    "newdata.loc[0,'pressure'] = 1023.7\n",
    "data['pressure'] = pd.to_numeric(data['pressure'])\n",
    "\n",
    "\n",
    "newdata['pressure'].interpolate(method='linear', direction='both', inplace=True)\n",
    "newdata['pressure'].isnull().sum()"
   ]
  },
  {
   "cell_type": "markdown",
   "metadata": {},
   "source": [
    "**Similarly for other parameters we are correcting and filling the null values**"
   ]
  },
  {
   "cell_type": "code",
   "execution_count": 13,
   "metadata": {},
   "outputs": [],
   "source": [
    "newdata.loc[0,'month'] = 3\n",
    "newdata.loc[1,'month'] = 3\n",
    "newdata['month'].interpolate(method='linear', direction='both', inplace=True)\n",
    "\n",
    "\n",
    "newdata['day'].interpolate(method='linear', direction='both', inplace=True)\n",
    "newdata['hour'].interpolate(method='linear', direction='both', inplace=True)\n",
    "newdata['PM2.5'].interpolate(method='linear', direction='both', inplace=True)\n",
    "newdata['temperature'].interpolate(method='linear', direction='both', inplace=True)\n",
    "newdata['wind_speed'].interpolate(method='linear', direction='both', inplace=True)"
   ]
  },
  {
   "cell_type": "code",
   "execution_count": 14,
   "metadata": {},
   "outputs": [
    {
     "name": "stdout",
     "output_type": "stream",
     "text": [
      "<class 'pandas.core.frame.DataFrame'>\n",
      "RangeIndex: 31527 entries, 0 to 31526\n",
      "Data columns (total 10 columns):\n",
      " #   Column          Non-Null Count  Dtype  \n",
      "---  ------          --------------  -----  \n",
      " 0   year            31527 non-null  float64\n",
      " 1   month           31527 non-null  float64\n",
      " 2   day             31527 non-null  float64\n",
      " 3   hour            31527 non-null  float64\n",
      " 4   PM2.5           31527 non-null  float64\n",
      " 5   temperature     31527 non-null  float64\n",
      " 6   pressure        31527 non-null  float64\n",
      " 7   rain            31527 non-null  float64\n",
      " 8   wind_direction  31467 non-null  object \n",
      " 9   wind_speed      31527 non-null  float64\n",
      "dtypes: float64(9), object(1)\n",
      "memory usage: 2.4+ MB\n"
     ]
    }
   ],
   "source": [
    "newdata.info()"
   ]
  },
  {
   "cell_type": "markdown",
   "metadata": {},
   "source": [
    "**So finally we have change the Dtype of parameter to their correct type.**"
   ]
  },
  {
   "cell_type": "code",
   "execution_count": 15,
   "metadata": {},
   "outputs": [
    {
     "data": {
      "text/plain": [
       "year               0\n",
       "month              0\n",
       "day                0\n",
       "hour               0\n",
       "PM2.5              0\n",
       "temperature        0\n",
       "pressure           0\n",
       "rain               0\n",
       "wind_direction    60\n",
       "wind_speed         0\n",
       "dtype: int64"
      ]
     },
     "execution_count": 15,
     "metadata": {},
     "output_type": "execute_result"
    }
   ],
   "source": [
    "newdata.isna().sum()"
   ]
  },
  {
   "cell_type": "markdown",
   "metadata": {},
   "source": [
    "**And also we have filled and clean the wrong and null values.**"
   ]
  },
  {
   "cell_type": "code",
   "execution_count": 16,
   "metadata": {},
   "outputs": [
    {
     "data": {
      "text/html": [
       "<div>\n",
       "<style scoped>\n",
       "    .dataframe tbody tr th:only-of-type {\n",
       "        vertical-align: middle;\n",
       "    }\n",
       "\n",
       "    .dataframe tbody tr th {\n",
       "        vertical-align: top;\n",
       "    }\n",
       "\n",
       "    .dataframe thead th {\n",
       "        text-align: right;\n",
       "    }\n",
       "</style>\n",
       "<table border=\"1\" class=\"dataframe\">\n",
       "  <thead>\n",
       "    <tr style=\"text-align: right;\">\n",
       "      <th></th>\n",
       "      <th>year</th>\n",
       "      <th>month</th>\n",
       "      <th>day</th>\n",
       "      <th>hour</th>\n",
       "      <th>PM2.5</th>\n",
       "      <th>temperature</th>\n",
       "      <th>pressure</th>\n",
       "      <th>rain</th>\n",
       "      <th>wind_direction</th>\n",
       "      <th>wind_speed</th>\n",
       "    </tr>\n",
       "  </thead>\n",
       "  <tbody>\n",
       "    <tr>\n",
       "      <th>0</th>\n",
       "      <td>2013.0</td>\n",
       "      <td>3.0</td>\n",
       "      <td>1.0</td>\n",
       "      <td>0.0</td>\n",
       "      <td>4.0</td>\n",
       "      <td>-0.7</td>\n",
       "      <td>1023.7</td>\n",
       "      <td>0.0</td>\n",
       "      <td>NNW</td>\n",
       "      <td>4.4</td>\n",
       "    </tr>\n",
       "    <tr>\n",
       "      <th>1</th>\n",
       "      <td>2013.0</td>\n",
       "      <td>3.0</td>\n",
       "      <td>1.0</td>\n",
       "      <td>1.0</td>\n",
       "      <td>8.0</td>\n",
       "      <td>-1.1</td>\n",
       "      <td>1023.2</td>\n",
       "      <td>0.0</td>\n",
       "      <td>N</td>\n",
       "      <td>5.0</td>\n",
       "    </tr>\n",
       "    <tr>\n",
       "      <th>2</th>\n",
       "      <td>2013.0</td>\n",
       "      <td>3.0</td>\n",
       "      <td>1.0</td>\n",
       "      <td>2.0</td>\n",
       "      <td>7.0</td>\n",
       "      <td>-1.1</td>\n",
       "      <td>1023.5</td>\n",
       "      <td>0.0</td>\n",
       "      <td>NNW</td>\n",
       "      <td>5.6</td>\n",
       "    </tr>\n",
       "    <tr>\n",
       "      <th>3</th>\n",
       "      <td>2013.0</td>\n",
       "      <td>3.0</td>\n",
       "      <td>1.0</td>\n",
       "      <td>3.0</td>\n",
       "      <td>6.0</td>\n",
       "      <td>-1.4</td>\n",
       "      <td>1024.5</td>\n",
       "      <td>0.0</td>\n",
       "      <td>NW</td>\n",
       "      <td>3.1</td>\n",
       "    </tr>\n",
       "    <tr>\n",
       "      <th>4</th>\n",
       "      <td>2013.0</td>\n",
       "      <td>3.0</td>\n",
       "      <td>1.0</td>\n",
       "      <td>4.0</td>\n",
       "      <td>3.0</td>\n",
       "      <td>-2.0</td>\n",
       "      <td>1025.2</td>\n",
       "      <td>0.0</td>\n",
       "      <td>N</td>\n",
       "      <td>2.0</td>\n",
       "    </tr>\n",
       "    <tr>\n",
       "      <th>...</th>\n",
       "      <td>...</td>\n",
       "      <td>...</td>\n",
       "      <td>...</td>\n",
       "      <td>...</td>\n",
       "      <td>...</td>\n",
       "      <td>...</td>\n",
       "      <td>...</td>\n",
       "      <td>...</td>\n",
       "      <td>...</td>\n",
       "      <td>...</td>\n",
       "    </tr>\n",
       "    <tr>\n",
       "      <th>31522</th>\n",
       "      <td>2017.0</td>\n",
       "      <td>2.0</td>\n",
       "      <td>27.0</td>\n",
       "      <td>6.0</td>\n",
       "      <td>80.0</td>\n",
       "      <td>-0.3</td>\n",
       "      <td>1019.4</td>\n",
       "      <td>0.0</td>\n",
       "      <td>ENE</td>\n",
       "      <td>0.8</td>\n",
       "    </tr>\n",
       "    <tr>\n",
       "      <th>31523</th>\n",
       "      <td>2017.0</td>\n",
       "      <td>2.0</td>\n",
       "      <td>27.0</td>\n",
       "      <td>16.0</td>\n",
       "      <td>75.0</td>\n",
       "      <td>15.9</td>\n",
       "      <td>1014.0</td>\n",
       "      <td>0.0</td>\n",
       "      <td>SW</td>\n",
       "      <td>2.9</td>\n",
       "    </tr>\n",
       "    <tr>\n",
       "      <th>31524</th>\n",
       "      <td>2017.0</td>\n",
       "      <td>2.0</td>\n",
       "      <td>27.0</td>\n",
       "      <td>19.0</td>\n",
       "      <td>51.0</td>\n",
       "      <td>11.5</td>\n",
       "      <td>1014.1</td>\n",
       "      <td>0.0</td>\n",
       "      <td>SSW</td>\n",
       "      <td>1.0</td>\n",
       "    </tr>\n",
       "    <tr>\n",
       "      <th>31525</th>\n",
       "      <td>2017.0</td>\n",
       "      <td>2.0</td>\n",
       "      <td>28.0</td>\n",
       "      <td>2.0</td>\n",
       "      <td>9.0</td>\n",
       "      <td>8.6</td>\n",
       "      <td>1016.0</td>\n",
       "      <td>0.0</td>\n",
       "      <td>NNE</td>\n",
       "      <td>0.9</td>\n",
       "    </tr>\n",
       "    <tr>\n",
       "      <th>31526</th>\n",
       "      <td>2017.0</td>\n",
       "      <td>2.0</td>\n",
       "      <td>28.0</td>\n",
       "      <td>14.0</td>\n",
       "      <td>5.0</td>\n",
       "      <td>14.6</td>\n",
       "      <td>1013.3</td>\n",
       "      <td>0.0</td>\n",
       "      <td>N</td>\n",
       "      <td>3.6</td>\n",
       "    </tr>\n",
       "  </tbody>\n",
       "</table>\n",
       "<p>31527 rows × 10 columns</p>\n",
       "</div>"
      ],
      "text/plain": [
       "         year  month   day  hour  PM2.5  temperature  pressure  rain  \\\n",
       "0      2013.0    3.0   1.0   0.0    4.0         -0.7    1023.7   0.0   \n",
       "1      2013.0    3.0   1.0   1.0    8.0         -1.1    1023.2   0.0   \n",
       "2      2013.0    3.0   1.0   2.0    7.0         -1.1    1023.5   0.0   \n",
       "3      2013.0    3.0   1.0   3.0    6.0         -1.4    1024.5   0.0   \n",
       "4      2013.0    3.0   1.0   4.0    3.0         -2.0    1025.2   0.0   \n",
       "...       ...    ...   ...   ...    ...          ...       ...   ...   \n",
       "31522  2017.0    2.0  27.0   6.0   80.0         -0.3    1019.4   0.0   \n",
       "31523  2017.0    2.0  27.0  16.0   75.0         15.9    1014.0   0.0   \n",
       "31524  2017.0    2.0  27.0  19.0   51.0         11.5    1014.1   0.0   \n",
       "31525  2017.0    2.0  28.0   2.0    9.0          8.6    1016.0   0.0   \n",
       "31526  2017.0    2.0  28.0  14.0    5.0         14.6    1013.3   0.0   \n",
       "\n",
       "      wind_direction  wind_speed  \n",
       "0                NNW         4.4  \n",
       "1                  N         5.0  \n",
       "2                NNW         5.6  \n",
       "3                 NW         3.1  \n",
       "4                  N         2.0  \n",
       "...              ...         ...  \n",
       "31522            ENE         0.8  \n",
       "31523             SW         2.9  \n",
       "31524            SSW         1.0  \n",
       "31525            NNE         0.9  \n",
       "31526              N         3.6  \n",
       "\n",
       "[31527 rows x 10 columns]"
      ]
     },
     "execution_count": 16,
     "metadata": {},
     "output_type": "execute_result"
    }
   ],
   "source": [
    "newdata"
   ]
  },
  {
   "cell_type": "markdown",
   "metadata": {},
   "source": [
    "## Describing the data"
   ]
  },
  {
   "cell_type": "code",
   "execution_count": 17,
   "metadata": {},
   "outputs": [
    {
     "data": {
      "text/html": [
       "<div>\n",
       "<style scoped>\n",
       "    .dataframe tbody tr th:only-of-type {\n",
       "        vertical-align: middle;\n",
       "    }\n",
       "\n",
       "    .dataframe tbody tr th {\n",
       "        vertical-align: top;\n",
       "    }\n",
       "\n",
       "    .dataframe thead th {\n",
       "        text-align: right;\n",
       "    }\n",
       "</style>\n",
       "<table border=\"1\" class=\"dataframe\">\n",
       "  <thead>\n",
       "    <tr style=\"text-align: right;\">\n",
       "      <th></th>\n",
       "      <th>year</th>\n",
       "      <th>month</th>\n",
       "      <th>day</th>\n",
       "      <th>hour</th>\n",
       "      <th>PM2.5</th>\n",
       "      <th>temperature</th>\n",
       "      <th>pressure</th>\n",
       "      <th>rain</th>\n",
       "      <th>wind_speed</th>\n",
       "    </tr>\n",
       "  </thead>\n",
       "  <tbody>\n",
       "    <tr>\n",
       "      <th>count</th>\n",
       "      <td>31527.000000</td>\n",
       "      <td>31527.000000</td>\n",
       "      <td>31527.000000</td>\n",
       "      <td>31527.000000</td>\n",
       "      <td>3.152700e+04</td>\n",
       "      <td>31527.000000</td>\n",
       "      <td>31527.000000</td>\n",
       "      <td>31527.000000</td>\n",
       "      <td>31527.000000</td>\n",
       "    </tr>\n",
       "    <tr>\n",
       "      <th>mean</th>\n",
       "      <td>2014.516827</td>\n",
       "      <td>6.453167</td>\n",
       "      <td>15.411076</td>\n",
       "      <td>11.287785</td>\n",
       "      <td>2.094761e+03</td>\n",
       "      <td>14.354617</td>\n",
       "      <td>1010.804234</td>\n",
       "      <td>0.071716</td>\n",
       "      <td>1.697326</td>\n",
       "    </tr>\n",
       "    <tr>\n",
       "      <th>std</th>\n",
       "      <td>1.105097</td>\n",
       "      <td>3.309035</td>\n",
       "      <td>33.130093</td>\n",
       "      <td>37.122567</td>\n",
       "      <td>3.574293e+05</td>\n",
       "      <td>11.297708</td>\n",
       "      <td>38.859120</td>\n",
       "      <td>0.949540</td>\n",
       "      <td>1.338809</td>\n",
       "    </tr>\n",
       "    <tr>\n",
       "      <th>min</th>\n",
       "      <td>2013.000000</td>\n",
       "      <td>1.000000</td>\n",
       "      <td>-5656.000000</td>\n",
       "      <td>-6464.000000</td>\n",
       "      <td>3.000000e+00</td>\n",
       "      <td>-16.800000</td>\n",
       "      <td>-5646.000000</td>\n",
       "      <td>0.000000</td>\n",
       "      <td>-79.000000</td>\n",
       "    </tr>\n",
       "    <tr>\n",
       "      <th>25%</th>\n",
       "      <td>2014.000000</td>\n",
       "      <td>4.000000</td>\n",
       "      <td>8.000000</td>\n",
       "      <td>5.000000</td>\n",
       "      <td>2.300000e+01</td>\n",
       "      <td>4.300000</td>\n",
       "      <td>1002.700000</td>\n",
       "      <td>0.000000</td>\n",
       "      <td>0.900000</td>\n",
       "    </tr>\n",
       "    <tr>\n",
       "      <th>50%</th>\n",
       "      <td>2015.000000</td>\n",
       "      <td>6.000000</td>\n",
       "      <td>15.000000</td>\n",
       "      <td>11.000000</td>\n",
       "      <td>5.800000e+01</td>\n",
       "      <td>15.800000</td>\n",
       "      <td>1010.300000</td>\n",
       "      <td>0.000000</td>\n",
       "      <td>1.400000</td>\n",
       "    </tr>\n",
       "    <tr>\n",
       "      <th>75%</th>\n",
       "      <td>2015.000000</td>\n",
       "      <td>9.000000</td>\n",
       "      <td>23.000000</td>\n",
       "      <td>18.000000</td>\n",
       "      <td>1.130000e+02</td>\n",
       "      <td>23.700000</td>\n",
       "      <td>1019.000000</td>\n",
       "      <td>0.000000</td>\n",
       "      <td>2.200000</td>\n",
       "    </tr>\n",
       "    <tr>\n",
       "      <th>max</th>\n",
       "      <td>2017.000000</td>\n",
       "      <td>12.000000</td>\n",
       "      <td>31.000000</td>\n",
       "      <td>23.000000</td>\n",
       "      <td>6.346466e+07</td>\n",
       "      <td>40.500000</td>\n",
       "      <td>1042.000000</td>\n",
       "      <td>72.500000</td>\n",
       "      <td>11.200000</td>\n",
       "    </tr>\n",
       "  </tbody>\n",
       "</table>\n",
       "</div>"
      ],
      "text/plain": [
       "               year         month           day          hour         PM2.5  \\\n",
       "count  31527.000000  31527.000000  31527.000000  31527.000000  3.152700e+04   \n",
       "mean    2014.516827      6.453167     15.411076     11.287785  2.094761e+03   \n",
       "std        1.105097      3.309035     33.130093     37.122567  3.574293e+05   \n",
       "min     2013.000000      1.000000  -5656.000000  -6464.000000  3.000000e+00   \n",
       "25%     2014.000000      4.000000      8.000000      5.000000  2.300000e+01   \n",
       "50%     2015.000000      6.000000     15.000000     11.000000  5.800000e+01   \n",
       "75%     2015.000000      9.000000     23.000000     18.000000  1.130000e+02   \n",
       "max     2017.000000     12.000000     31.000000     23.000000  6.346466e+07   \n",
       "\n",
       "        temperature      pressure          rain    wind_speed  \n",
       "count  31527.000000  31527.000000  31527.000000  31527.000000  \n",
       "mean      14.354617   1010.804234      0.071716      1.697326  \n",
       "std       11.297708     38.859120      0.949540      1.338809  \n",
       "min      -16.800000  -5646.000000      0.000000    -79.000000  \n",
       "25%        4.300000   1002.700000      0.000000      0.900000  \n",
       "50%       15.800000   1010.300000      0.000000      1.400000  \n",
       "75%       23.700000   1019.000000      0.000000      2.200000  \n",
       "max       40.500000   1042.000000     72.500000     11.200000  "
      ]
     },
     "execution_count": 17,
     "metadata": {},
     "output_type": "execute_result"
    }
   ],
   "source": [
    "newdata.describe()\n",
    "# from this method we can find mean of each data, standard deviation, minimum and maximum values and percentiles.\n",
    "# (Percentiles give you a number that describes the value that a given percent of the values are lower than.)"
   ]
  },
  {
   "cell_type": "markdown",
   "metadata": {},
   "source": [
    "### Finding median of each parameter"
   ]
  },
  {
   "cell_type": "code",
   "execution_count": 18,
   "metadata": {},
   "outputs": [
    {
     "name": "stdout",
     "output_type": "stream",
     "text": [
      "year_median = 2015.0\n",
      "month_median = 6.0\n",
      "day_median = 15.0\n",
      "hour_median =  11.0\n",
      "PM2.5_median = 58.0\n",
      "temperature_median = 15.8\n",
      "pressure_median = 1010.3\n",
      "rain_median = 0.0\n",
      "wind_speed_median = 1.4\n"
     ]
    }
   ],
   "source": [
    "print(\"year_median =\", np.median(newdata['year']))\n",
    "print(\"month_median =\", np.median(newdata['month']))\n",
    "print(\"day_median =\", np.median(newdata['day']))\n",
    "print(\"hour_median = \", np.median(newdata['hour']))\n",
    "print(\"PM2.5_median =\", np.median(newdata['PM2.5']))\n",
    "print(\"temperature_median =\", np.median(newdata['temperature']))\n",
    "print(\"pressure_median =\", np.median(newdata['pressure']))\n",
    "print(\"rain_median =\", np.median(newdata['rain']))\n",
    "print(\"wind_speed_median =\", np.median(newdata['wind_speed']))"
   ]
  },
  {
   "cell_type": "markdown",
   "metadata": {},
   "source": [
    "### Finding Mode"
   ]
  },
  {
   "cell_type": "code",
   "execution_count": 19,
   "metadata": {},
   "outputs": [
    {
     "name": "stdout",
     "output_type": "stream",
     "text": [
      "year_mode = ModeResult(mode=array([2015.]), count=array([8544]))\n",
      "month_mode = ModeResult(mode=array([5.]), count=array([2954]))\n",
      "day_mode = ModeResult(mode=array([4.]), count=array([1069]))\n",
      "hour_mode =  ModeResult(mode=array([5.]), count=array([1335]))\n",
      "PM2.5_mode = ModeResult(mode=array([9.]), count=array([538]))\n",
      "temperature_mode = ModeResult(mode=array([3.]), count=array([237]))\n",
      "pressure_mode = ModeResult(mode=array([1019.]), count=array([216]))\n",
      "rain_mode = ModeResult(mode=array([0.]), count=array([30217]))\n",
      "wind_direction_mode = ModeResult(mode=array(['NE'], dtype=object), count=array([4465]))\n",
      "wind_speed_mode = ModeResult(mode=array([1.2]), count=array([1681]))\n"
     ]
    }
   ],
   "source": [
    "from scipy import stats\n",
    "print(\"year_mode =\", stats.mode(newdata['year']))\n",
    "print(\"month_mode =\", stats.mode(newdata['month']))\n",
    "print(\"day_mode =\", stats.mode(newdata['day']))\n",
    "print(\"hour_mode = \", stats.mode(newdata['hour']))\n",
    "print(\"PM2.5_mode =\", stats.mode(newdata['PM2.5']))\n",
    "print(\"temperature_mode =\", stats.mode(newdata['temperature']))\n",
    "print(\"pressure_mode =\", stats.mode(newdata['pressure']))\n",
    "print(\"rain_mode =\", stats.mode(newdata['rain']))\n",
    "print(\"wind_direction_mode =\", stats.mode(newdata['wind_direction']))\n",
    "print(\"wind_speed_mode =\", stats.mode(newdata['wind_speed']))"
   ]
  },
  {
   "cell_type": "markdown",
   "metadata": {},
   "source": [
    "## Now, as wind_direction has still null values and its Dtype is object. Also from mode value of wind_direction we can see that it has NE as most repeated.\n",
    "## So let's fill the null values with NE using fillna method."
   ]
  },
  {
   "cell_type": "code",
   "execution_count": 20,
   "metadata": {},
   "outputs": [],
   "source": [
    "newdata['wind_direction'].fillna(\"NE\", inplace=True)\n",
    "# newdata['wind_direction'].interpolate(method='linear', direction='both', inplace=True)"
   ]
  },
  {
   "cell_type": "code",
   "execution_count": 21,
   "metadata": {},
   "outputs": [
    {
     "data": {
      "text/plain": [
       "year              0\n",
       "month             0\n",
       "day               0\n",
       "hour              0\n",
       "PM2.5             0\n",
       "temperature       0\n",
       "pressure          0\n",
       "rain              0\n",
       "wind_direction    0\n",
       "wind_speed        0\n",
       "dtype: int64"
      ]
     },
     "execution_count": 21,
     "metadata": {},
     "output_type": "execute_result"
    }
   ],
   "source": [
    "newdata.isnull().sum()"
   ]
  },
  {
   "cell_type": "markdown",
   "metadata": {},
   "source": [
    "# So finally our dataset is cleaned and corrected."
   ]
  },
  {
   "cell_type": "code",
   "execution_count": 22,
   "metadata": {},
   "outputs": [
    {
     "data": {
      "text/html": [
       "<div>\n",
       "<style scoped>\n",
       "    .dataframe tbody tr th:only-of-type {\n",
       "        vertical-align: middle;\n",
       "    }\n",
       "\n",
       "    .dataframe tbody tr th {\n",
       "        vertical-align: top;\n",
       "    }\n",
       "\n",
       "    .dataframe thead th {\n",
       "        text-align: right;\n",
       "    }\n",
       "</style>\n",
       "<table border=\"1\" class=\"dataframe\">\n",
       "  <thead>\n",
       "    <tr style=\"text-align: right;\">\n",
       "      <th></th>\n",
       "      <th>year</th>\n",
       "      <th>month</th>\n",
       "      <th>day</th>\n",
       "      <th>hour</th>\n",
       "      <th>PM2.5</th>\n",
       "      <th>temperature</th>\n",
       "      <th>pressure</th>\n",
       "      <th>rain</th>\n",
       "      <th>wind_direction</th>\n",
       "      <th>wind_speed</th>\n",
       "    </tr>\n",
       "  </thead>\n",
       "  <tbody>\n",
       "    <tr>\n",
       "      <th>0</th>\n",
       "      <td>2013.0</td>\n",
       "      <td>3.0</td>\n",
       "      <td>1.0</td>\n",
       "      <td>0.0</td>\n",
       "      <td>4.0</td>\n",
       "      <td>-0.7</td>\n",
       "      <td>1023.7</td>\n",
       "      <td>0.0</td>\n",
       "      <td>NNW</td>\n",
       "      <td>4.4</td>\n",
       "    </tr>\n",
       "    <tr>\n",
       "      <th>1</th>\n",
       "      <td>2013.0</td>\n",
       "      <td>3.0</td>\n",
       "      <td>1.0</td>\n",
       "      <td>1.0</td>\n",
       "      <td>8.0</td>\n",
       "      <td>-1.1</td>\n",
       "      <td>1023.2</td>\n",
       "      <td>0.0</td>\n",
       "      <td>N</td>\n",
       "      <td>5.0</td>\n",
       "    </tr>\n",
       "    <tr>\n",
       "      <th>2</th>\n",
       "      <td>2013.0</td>\n",
       "      <td>3.0</td>\n",
       "      <td>1.0</td>\n",
       "      <td>2.0</td>\n",
       "      <td>7.0</td>\n",
       "      <td>-1.1</td>\n",
       "      <td>1023.5</td>\n",
       "      <td>0.0</td>\n",
       "      <td>NNW</td>\n",
       "      <td>5.6</td>\n",
       "    </tr>\n",
       "    <tr>\n",
       "      <th>3</th>\n",
       "      <td>2013.0</td>\n",
       "      <td>3.0</td>\n",
       "      <td>1.0</td>\n",
       "      <td>3.0</td>\n",
       "      <td>6.0</td>\n",
       "      <td>-1.4</td>\n",
       "      <td>1024.5</td>\n",
       "      <td>0.0</td>\n",
       "      <td>NW</td>\n",
       "      <td>3.1</td>\n",
       "    </tr>\n",
       "    <tr>\n",
       "      <th>4</th>\n",
       "      <td>2013.0</td>\n",
       "      <td>3.0</td>\n",
       "      <td>1.0</td>\n",
       "      <td>4.0</td>\n",
       "      <td>3.0</td>\n",
       "      <td>-2.0</td>\n",
       "      <td>1025.2</td>\n",
       "      <td>0.0</td>\n",
       "      <td>N</td>\n",
       "      <td>2.0</td>\n",
       "    </tr>\n",
       "    <tr>\n",
       "      <th>...</th>\n",
       "      <td>...</td>\n",
       "      <td>...</td>\n",
       "      <td>...</td>\n",
       "      <td>...</td>\n",
       "      <td>...</td>\n",
       "      <td>...</td>\n",
       "      <td>...</td>\n",
       "      <td>...</td>\n",
       "      <td>...</td>\n",
       "      <td>...</td>\n",
       "    </tr>\n",
       "    <tr>\n",
       "      <th>31522</th>\n",
       "      <td>2017.0</td>\n",
       "      <td>2.0</td>\n",
       "      <td>27.0</td>\n",
       "      <td>6.0</td>\n",
       "      <td>80.0</td>\n",
       "      <td>-0.3</td>\n",
       "      <td>1019.4</td>\n",
       "      <td>0.0</td>\n",
       "      <td>ENE</td>\n",
       "      <td>0.8</td>\n",
       "    </tr>\n",
       "    <tr>\n",
       "      <th>31523</th>\n",
       "      <td>2017.0</td>\n",
       "      <td>2.0</td>\n",
       "      <td>27.0</td>\n",
       "      <td>16.0</td>\n",
       "      <td>75.0</td>\n",
       "      <td>15.9</td>\n",
       "      <td>1014.0</td>\n",
       "      <td>0.0</td>\n",
       "      <td>SW</td>\n",
       "      <td>2.9</td>\n",
       "    </tr>\n",
       "    <tr>\n",
       "      <th>31524</th>\n",
       "      <td>2017.0</td>\n",
       "      <td>2.0</td>\n",
       "      <td>27.0</td>\n",
       "      <td>19.0</td>\n",
       "      <td>51.0</td>\n",
       "      <td>11.5</td>\n",
       "      <td>1014.1</td>\n",
       "      <td>0.0</td>\n",
       "      <td>SSW</td>\n",
       "      <td>1.0</td>\n",
       "    </tr>\n",
       "    <tr>\n",
       "      <th>31525</th>\n",
       "      <td>2017.0</td>\n",
       "      <td>2.0</td>\n",
       "      <td>28.0</td>\n",
       "      <td>2.0</td>\n",
       "      <td>9.0</td>\n",
       "      <td>8.6</td>\n",
       "      <td>1016.0</td>\n",
       "      <td>0.0</td>\n",
       "      <td>NNE</td>\n",
       "      <td>0.9</td>\n",
       "    </tr>\n",
       "    <tr>\n",
       "      <th>31526</th>\n",
       "      <td>2017.0</td>\n",
       "      <td>2.0</td>\n",
       "      <td>28.0</td>\n",
       "      <td>14.0</td>\n",
       "      <td>5.0</td>\n",
       "      <td>14.6</td>\n",
       "      <td>1013.3</td>\n",
       "      <td>0.0</td>\n",
       "      <td>N</td>\n",
       "      <td>3.6</td>\n",
       "    </tr>\n",
       "  </tbody>\n",
       "</table>\n",
       "<p>31527 rows × 10 columns</p>\n",
       "</div>"
      ],
      "text/plain": [
       "         year  month   day  hour  PM2.5  temperature  pressure  rain  \\\n",
       "0      2013.0    3.0   1.0   0.0    4.0         -0.7    1023.7   0.0   \n",
       "1      2013.0    3.0   1.0   1.0    8.0         -1.1    1023.2   0.0   \n",
       "2      2013.0    3.0   1.0   2.0    7.0         -1.1    1023.5   0.0   \n",
       "3      2013.0    3.0   1.0   3.0    6.0         -1.4    1024.5   0.0   \n",
       "4      2013.0    3.0   1.0   4.0    3.0         -2.0    1025.2   0.0   \n",
       "...       ...    ...   ...   ...    ...          ...       ...   ...   \n",
       "31522  2017.0    2.0  27.0   6.0   80.0         -0.3    1019.4   0.0   \n",
       "31523  2017.0    2.0  27.0  16.0   75.0         15.9    1014.0   0.0   \n",
       "31524  2017.0    2.0  27.0  19.0   51.0         11.5    1014.1   0.0   \n",
       "31525  2017.0    2.0  28.0   2.0    9.0          8.6    1016.0   0.0   \n",
       "31526  2017.0    2.0  28.0  14.0    5.0         14.6    1013.3   0.0   \n",
       "\n",
       "      wind_direction  wind_speed  \n",
       "0                NNW         4.4  \n",
       "1                  N         5.0  \n",
       "2                NNW         5.6  \n",
       "3                 NW         3.1  \n",
       "4                  N         2.0  \n",
       "...              ...         ...  \n",
       "31522            ENE         0.8  \n",
       "31523             SW         2.9  \n",
       "31524            SSW         1.0  \n",
       "31525            NNE         0.9  \n",
       "31526              N         3.6  \n",
       "\n",
       "[31527 rows x 10 columns]"
      ]
     },
     "execution_count": 22,
     "metadata": {},
     "output_type": "execute_result"
    }
   ],
   "source": [
    "newdata"
   ]
  },
  {
   "cell_type": "markdown",
   "metadata": {},
   "source": [
    "# DAY-2\n",
    "# TASK-2:     \n",
    "1. Find outliers and fix or remove them. Mention the methods and explain how did you find the outliers. Also, give reason that why have you removed or fixed the values of the outliers.\n",
    "\n",
    "2. Analyse each column with every other coulmn and find the relationship between the two columns. This can be done using various plots/graphs.\n",
    "\n",
    "3. Find the correlation of PM2.5 with rest of the coulmns using correlation matrix and then visulaize the correlation matrix using heatmap.\n",
    "\n",
    "4. Perform various plots like:- scatter plots, lm plots, bar plots, pie plots etc according to the values in the columns. Keep in mind that you don't need to plot every type of plots, plot only the ones you think are suitable for a column.\n",
    "\n",
    "5. Plot box plot for every column and write your observations that you observed from the box plot.\n",
    "\n",
    "6. Find how PM2.5 is getting affected by other coulmns.\n"
   ]
  },
  {
   "cell_type": "markdown",
   "metadata": {},
   "source": [
    "**An OUTLIER is a data point in the dataset which lies outside of other observations, and it produces through mistakes or variance.**\n",
    "\n",
    "### FINDING OUTLIERS\n",
    "##### Here, to find them I will use the BOX PLOT  method, in which we will vizualise graphically by making boxes with the help of seaborn.\n"
   ]
  },
  {
   "cell_type": "code",
   "execution_count": 38,
   "metadata": {},
   "outputs": [
    {
     "data": {
      "text/plain": [
       "<AxesSubplot:xlabel='year'>"
      ]
     },
     "execution_count": 38,
     "metadata": {},
     "output_type": "execute_result"
    },
    {
     "data": {
      "image/png": "[encoded data removed]",
      "text/plain": [
       "<Figure size 432x288 with 1 Axes>"
      ]
     },
     "metadata": {
      "needs_background": "light"
     },
     "output_type": "display_data"
    }
   ],
   "source": [
    "import seaborn as sns\n",
    "sns.boxplot(x=newdata['year'])"
   ]
  },
  {
   "cell_type": "code",
   "execution_count": 31,
   "metadata": {},
   "outputs": [
    {
     "data": {
      "text/plain": [
       "<AxesSubplot:xlabel='month'>"
      ]
     },
     "execution_count": 31,
     "metadata": {},
     "output_type": "execute_result"
    },
    {
     "data": {
      "image/png": "[encoded data removed]",
      "text/plain": [
       "<Figure size 432x288 with 1 Axes>"
      ]
     },
     "metadata": {
      "needs_background": "light"
     },
     "output_type": "display_data"
    }
   ],
   "source": [
    "sns.boxplot(x=newdata['month'])"
   ]
  },
  {
   "cell_type": "code",
   "execution_count": 32,
   "metadata": {},
   "outputs": [
    {
     "data": {
      "text/plain": [
       "<AxesSubplot:xlabel='day'>"
      ]
     },
     "execution_count": 32,
     "metadata": {},
     "output_type": "execute_result"
    },
    {
     "data": {
      "image/png": "[encoded data removed]",
      "text/plain": [
       "<Figure size 432x288 with 1 Axes>"
      ]
     },
     "metadata": {
      "needs_background": "light"
     },
     "output_type": "display_data"
    }
   ],
   "source": [
    "sns.boxplot(x=newdata['day'])"
   ]
  },
  {
   "cell_type": "code",
   "execution_count": 33,
   "metadata": {},
   "outputs": [
    {
     "data": {
      "text/plain": [
       "<AxesSubplot:xlabel='hour'>"
      ]
     },
     "execution_count": 33,
     "metadata": {},
     "output_type": "execute_result"
    },
    {
     "data": {
      "image/png": "[encoded data removed]",
      "text/plain": [
       "<Figure size 432x288 with 1 Axes>"
      ]
     },
     "metadata": {
      "needs_background": "light"
     },
     "output_type": "display_data"
    }
   ],
   "source": [
    "sns.boxplot(x=newdata['hour'])"
   ]
  },
  {
   "cell_type": "code",
   "execution_count": 34,
   "metadata": {},
   "outputs": [
    {
     "data": {
      "text/plain": [
       "<AxesSubplot:xlabel='PM2.5'>"
      ]
     },
     "execution_count": 34,
     "metadata": {},
     "output_type": "execute_result"
    },
    {
     "data": {
      "image/png": "[encoded data removed]",
      "text/plain": [
       "<Figure size 432x288 with 1 Axes>"
      ]
     },
     "metadata": {
      "needs_background": "light"
     },
     "output_type": "display_data"
    }
   ],
   "source": [
    "sns.boxplot(x=newdata['PM2.5'])"
   ]
  },
  {
   "cell_type": "code",
   "execution_count": 35,
   "metadata": {},
   "outputs": [
    {
     "data": {
      "text/plain": [
       "<AxesSubplot:xlabel='temperature'>"
      ]
     },
     "execution_count": 35,
     "metadata": {},
     "output_type": "execute_result"
    },
    {
     "data": {
      "image/png": "[encoded data removed]",
      "text/plain": [
       "<Figure size 432x288 with 1 Axes>"
      ]
     },
     "metadata": {
      "needs_background": "light"
     },
     "output_type": "display_data"
    }
   ],
   "source": [
    "sns.boxplot(x=newdata['temperature'])"
   ]
  },
  {
   "cell_type": "code",
   "execution_count": 36,
   "metadata": {},
   "outputs": [
    {
     "data": {
      "text/plain": [
       "<AxesSubplot:xlabel='pressure'>"
      ]
     },
     "execution_count": 36,
     "metadata": {},
     "output_type": "execute_result"
    },
    {
     "data": {
      "image/png": "[encoded data removed]",
      "text/plain": [
       "<Figure size 432x288 with 1 Axes>"
      ]
     },
     "metadata": {
      "needs_background": "light"
     },
     "output_type": "display_data"
    }
   ],
   "source": [
    "sns.boxplot(x=newdata['pressure'])"
   ]
  },
  {
   "cell_type": "code",
   "execution_count": 44,
   "metadata": {},
   "outputs": [
    {
     "data": {
      "text/plain": [
       "<AxesSubplot:xlabel='rain'>"
      ]
     },
     "execution_count": 44,
     "metadata": {},
     "output_type": "execute_result"
    },
    {
     "data": {
      "image/png": "[encoded data removed]",
      "text/plain": [
       "<Figure size 432x288 with 1 Axes>"
      ]
     },
     "metadata": {
      "needs_background": "light"
     },
     "output_type": "display_data"
    }
   ],
   "source": [
    "sns.boxplot(x=newdata['rain'])"
   ]
  },
  {
   "cell_type": "code",
   "execution_count": 41,
   "metadata": {},
   "outputs": [],
   "source": [
    "# sns.boxplot(x=newdata['wind_direction])"
   ]
  },
  {
   "cell_type": "code",
   "execution_count": 40,
   "metadata": {},
   "outputs": [
    {
     "data": {
      "text/plain": [
       "<AxesSubplot:xlabel='wind_speed'>"
      ]
     },
     "execution_count": 40,
     "metadata": {},
     "output_type": "execute_result"
    },
    {
     "data": {
      "image/png": "[encoded data removed]",
      "text/plain": [
       "<Figure size 432x288 with 1 Axes>"
      ]
     },
     "metadata": {
      "needs_background": "light"
     },
     "output_type": "display_data"
    }
   ],
   "source": [
    "sns.boxplot(x=newdata['wind_speed'])"
   ]
  },
  {
   "cell_type": "markdown",
   "metadata": {},
   "source": [
    "## Detecting outlier using Z score\n",
    "### Using Z score : Data point that falls outside of 3 standard deviations. we can use a z score and if the z score falls outside of 2 standard deviation. In this way I can find the outlier.\n",
    "#### Formula for Z score = (Observation — Mean)/Standard Deviation\n",
    "\n",
    "#### z = (X — μ) / σ"
   ]
  },
  {
   "cell_type": "code",
   "execution_count": 45,
   "metadata": {},
   "outputs": [],
   "source": [
    "outliers=[]\n",
    "def detect_outliers(data):\n",
    "    \n",
    "    threshold=3\n",
    "    mean = np.mean(data)\n",
    "    std =np.std(data)\n",
    "    \n",
    "    \n",
    "    for i in data:\n",
    "        z_score= (i - mean)/std \n",
    "        if np.abs(z_score) > threshold:\n",
    "            outliers.append(i)\n",
    "    return outliers"
   ]
  },
  {
   "cell_type": "code",
   "execution_count": 46,
   "metadata": {},
   "outputs": [
    {
     "data": {
      "text/plain": [
       "[10.7,\n",
       " 3.3,\n",
       " 7.6,\n",
       " 8.9,\n",
       " 3.2,\n",
       " 3.8,\n",
       " 3.6,\n",
       " 4.0,\n",
       " 16.0,\n",
       " 5.7,\n",
       " 11.7,\n",
       " 21.0,\n",
       " 10.1,\n",
       " 3.2,\n",
       " 6.4,\n",
       " 4.4,\n",
       " 12.1,\n",
       " 6.6,\n",
       " 3.6,\n",
       " 11.2,\n",
       " 3.0,\n",
       " 4.1,\n",
       " 3.0,\n",
       " 3.1,\n",
       " 9.8,\n",
       " 8.8,\n",
       " 4.5,\n",
       " 3.3,\n",
       " 3.8,\n",
       " 14.7,\n",
       " 10.6,\n",
       " 3.6,\n",
       " 6.0,\n",
       " 3.6,\n",
       " 72.5,\n",
       " 6.8,\n",
       " 6.0,\n",
       " 3.2,\n",
       " 3.9,\n",
       " 8.6,\n",
       " 4.0,\n",
       " 10.9,\n",
       " 3.1,\n",
       " 3.3,\n",
       " 3.5,\n",
       " 7.0,\n",
       " 7.3,\n",
       " 11.5,\n",
       " 3.3,\n",
       " 11.6,\n",
       " 8.2,\n",
       " 6.6,\n",
       " 5.4,\n",
       " 4.6,\n",
       " 7.8,\n",
       " 14.6,\n",
       " 4.1,\n",
       " 40.7,\n",
       " 7.5,\n",
       " 23.6,\n",
       " 23.3,\n",
       " 6.5,\n",
       " 6.1,\n",
       " 4.4,\n",
       " 26.8,\n",
       " 3.8,\n",
       " 6.4,\n",
       " 3.2,\n",
       " 8.0,\n",
       " 5.2,\n",
       " 3.4,\n",
       " 11.3,\n",
       " 10.7,\n",
       " 12.9,\n",
       " 13.6,\n",
       " 3.7,\n",
       " 6.4,\n",
       " 6.5,\n",
       " 4.7,\n",
       " 4.2,\n",
       " 3.6,\n",
       " 3.7,\n",
       " 5.0,\n",
       " 4.6,\n",
       " 11.7,\n",
       " 3.5,\n",
       " 3.5,\n",
       " 3.0,\n",
       " 5.2,\n",
       " 3.7,\n",
       " 3.5,\n",
       " 3.2,\n",
       " 3.9,\n",
       " 9.9,\n",
       " 4.8,\n",
       " 5.3,\n",
       " 9.6,\n",
       " 33.7,\n",
       " 3.7,\n",
       " 15.4,\n",
       " 3.2,\n",
       " 3.3,\n",
       " 9.5,\n",
       " 29.3,\n",
       " 7.9,\n",
       " 7.2,\n",
       " 5.2,\n",
       " 17.8,\n",
       " 33.1,\n",
       " 6.9,\n",
       " 5.9,\n",
       " 4.7,\n",
       " 7.3,\n",
       " 5.2,\n",
       " 3.3,\n",
       " 4.3,\n",
       " 6.9,\n",
       " 36.6,\n",
       " 10.9,\n",
       " 4.0,\n",
       " 13.4,\n",
       " 6.3,\n",
       " 3.2,\n",
       " 4.1,\n",
       " 3.4,\n",
       " 3.8,\n",
       " 5.7,\n",
       " 4.3,\n",
       " 4.9,\n",
       " 3.1,\n",
       " 3.7,\n",
       " 6.9,\n",
       " 3.7,\n",
       " 3.9,\n",
       " 17.9,\n",
       " 5.3,\n",
       " 4.0,\n",
       " 7.1,\n",
       " 4.1,\n",
       " 3.5,\n",
       " 3.6,\n",
       " 5.3,\n",
       " 13.8,\n",
       " 23.7,\n",
       " 24.1,\n",
       " 20.3,\n",
       " 17.8,\n",
       " 20.2,\n",
       " 9.0,\n",
       " 16.4,\n",
       " 3.8,\n",
       " 17.7,\n",
       " 18.3,\n",
       " 17.6,\n",
       " 7.6,\n",
       " 3.2,\n",
       " 15.3,\n",
       " 3.8,\n",
       " 12.1,\n",
       " 5.5,\n",
       " 5.5,\n",
       " 4.7,\n",
       " 3.2,\n",
       " 4.8,\n",
       " 21.7,\n",
       " 46.4,\n",
       " 3.5,\n",
       " 3.8,\n",
       " 11.7,\n",
       " 3.4]"
      ]
     },
     "execution_count": 46,
     "metadata": {},
     "output_type": "execute_result"
    }
   ],
   "source": [
    "outlier_pt=detect_outliers(newdata['rain'])\n",
    "outlier_pt"
   ]
  },
  {
   "cell_type": "code",
   "execution_count": 47,
   "metadata": {},
   "outputs": [
    {
     "ename": "ValueError",
     "evalue": "Length of passed values is 31525, index implies 31527.",
     "output_type": "error",
     "traceback": [
      "\u001b[1;31m---------------------------------------------------------------------------\u001b[0m",
      "\u001b[1;31mValueError\u001b[0m                                Traceback (most recent call last)",
      "\u001b[1;32m<ipython-input-47-6206dcda0277>\u001b[0m in \u001b[0;36m<module>\u001b[1;34m\u001b[0m\n\u001b[0;32m      1\u001b[0m \u001b[1;31m# Trimming\u001b[0m\u001b[1;33m\u001b[0m\u001b[1;33m\u001b[0m\u001b[1;33m\u001b[0m\u001b[0m\n\u001b[0;32m      2\u001b[0m \u001b[1;32mfor\u001b[0m \u001b[0mi\u001b[0m \u001b[1;32min\u001b[0m \u001b[0moutlier_pt\u001b[0m\u001b[1;33m:\u001b[0m\u001b[1;33m\u001b[0m\u001b[1;33m\u001b[0m\u001b[0m\n\u001b[1;32m----> 3\u001b[1;33m     \u001b[0ma\u001b[0m \u001b[1;33m=\u001b[0m \u001b[0mnp\u001b[0m\u001b[1;33m.\u001b[0m\u001b[0mdelete\u001b[0m\u001b[1;33m(\u001b[0m\u001b[0mnewdata\u001b[0m\u001b[1;33m[\u001b[0m\u001b[1;34m'rain'\u001b[0m\u001b[1;33m]\u001b[0m \u001b[1;33m,\u001b[0m \u001b[0mnp\u001b[0m\u001b[1;33m.\u001b[0m\u001b[0mwhere\u001b[0m\u001b[1;33m(\u001b[0m\u001b[0mnewdata\u001b[0m\u001b[1;33m[\u001b[0m\u001b[1;34m'rain'\u001b[0m\u001b[1;33m]\u001b[0m\u001b[1;33m==\u001b[0m\u001b[0mi\u001b[0m\u001b[1;33m)\u001b[0m\u001b[1;33m)\u001b[0m\u001b[1;33m\u001b[0m\u001b[1;33m\u001b[0m\u001b[0m\n\u001b[0m\u001b[0;32m      4\u001b[0m \u001b[0mprint\u001b[0m\u001b[1;33m(\u001b[0m\u001b[0ma\u001b[0m\u001b[1;33m)\u001b[0m\u001b[1;33m\u001b[0m\u001b[1;33m\u001b[0m\u001b[0m\n",
      "\u001b[1;32m<__array_function__ internals>\u001b[0m in \u001b[0;36mdelete\u001b[1;34m(*args, **kwargs)\u001b[0m\n",
      "\u001b[1;32mC:\\ProgramData\\Anaconda3\\lib\\site-packages\\numpy\\lib\\function_base.py\u001b[0m in \u001b[0;36mdelete\u001b[1;34m(arr, obj, axis)\u001b[0m\n\u001b[0;32m   4410\u001b[0m \u001b[1;33m\u001b[0m\u001b[0m\n\u001b[0;32m   4411\u001b[0m     \u001b[1;32mif\u001b[0m \u001b[0mwrap\u001b[0m\u001b[1;33m:\u001b[0m\u001b[1;33m\u001b[0m\u001b[1;33m\u001b[0m\u001b[0m\n\u001b[1;32m-> 4412\u001b[1;33m         \u001b[1;32mreturn\u001b[0m \u001b[0mwrap\u001b[0m\u001b[1;33m(\u001b[0m\u001b[0mnew\u001b[0m\u001b[1;33m)\u001b[0m\u001b[1;33m\u001b[0m\u001b[1;33m\u001b[0m\u001b[0m\n\u001b[0m\u001b[0;32m   4413\u001b[0m     \u001b[1;32melse\u001b[0m\u001b[1;33m:\u001b[0m\u001b[1;33m\u001b[0m\u001b[1;33m\u001b[0m\u001b[0m\n\u001b[0;32m   4414\u001b[0m         \u001b[1;32mreturn\u001b[0m \u001b[0mnew\u001b[0m\u001b[1;33m\u001b[0m\u001b[1;33m\u001b[0m\u001b[0m\n",
      "\u001b[1;32mC:\\ProgramData\\Anaconda3\\lib\\site-packages\\pandas\\core\\generic.py\u001b[0m in \u001b[0;36m__array_wrap__\u001b[1;34m(self, result, context)\u001b[0m\n\u001b[0;32m   1788\u001b[0m             \u001b[1;32mreturn\u001b[0m \u001b[0mresult\u001b[0m\u001b[1;33m\u001b[0m\u001b[1;33m\u001b[0m\u001b[0m\n\u001b[0;32m   1789\u001b[0m         \u001b[0md\u001b[0m \u001b[1;33m=\u001b[0m \u001b[0mself\u001b[0m\u001b[1;33m.\u001b[0m\u001b[0m_construct_axes_dict\u001b[0m\u001b[1;33m(\u001b[0m\u001b[0mself\u001b[0m\u001b[1;33m.\u001b[0m\u001b[0m_AXIS_ORDERS\u001b[0m\u001b[1;33m,\u001b[0m \u001b[0mcopy\u001b[0m\u001b[1;33m=\u001b[0m\u001b[1;32mFalse\u001b[0m\u001b[1;33m)\u001b[0m\u001b[1;33m\u001b[0m\u001b[1;33m\u001b[0m\u001b[0m\n\u001b[1;32m-> 1790\u001b[1;33m         return self._constructor(result, **d).__finalize__(\n\u001b[0m\u001b[0;32m   1791\u001b[0m             \u001b[0mself\u001b[0m\u001b[1;33m,\u001b[0m \u001b[0mmethod\u001b[0m\u001b[1;33m=\u001b[0m\u001b[1;34m\"__array_wrap__\"\u001b[0m\u001b[1;33m\u001b[0m\u001b[1;33m\u001b[0m\u001b[0m\n\u001b[0;32m   1792\u001b[0m         )\n",
      "\u001b[1;32mC:\\ProgramData\\Anaconda3\\lib\\site-packages\\pandas\\core\\series.py\u001b[0m in \u001b[0;36m__init__\u001b[1;34m(self, data, index, dtype, name, copy, fastpath)\u001b[0m\n\u001b[0;32m    311\u001b[0m                 \u001b[1;32mtry\u001b[0m\u001b[1;33m:\u001b[0m\u001b[1;33m\u001b[0m\u001b[1;33m\u001b[0m\u001b[0m\n\u001b[0;32m    312\u001b[0m                     \u001b[1;32mif\u001b[0m \u001b[0mlen\u001b[0m\u001b[1;33m(\u001b[0m\u001b[0mindex\u001b[0m\u001b[1;33m)\u001b[0m \u001b[1;33m!=\u001b[0m \u001b[0mlen\u001b[0m\u001b[1;33m(\u001b[0m\u001b[0mdata\u001b[0m\u001b[1;33m)\u001b[0m\u001b[1;33m:\u001b[0m\u001b[1;33m\u001b[0m\u001b[1;33m\u001b[0m\u001b[0m\n\u001b[1;32m--> 313\u001b[1;33m                         raise ValueError(\n\u001b[0m\u001b[0;32m    314\u001b[0m                             \u001b[1;34mf\"Length of passed values is {len(data)}, \"\u001b[0m\u001b[1;33m\u001b[0m\u001b[1;33m\u001b[0m\u001b[0m\n\u001b[0;32m    315\u001b[0m                             \u001b[1;34mf\"index implies {len(index)}.\"\u001b[0m\u001b[1;33m\u001b[0m\u001b[1;33m\u001b[0m\u001b[0m\n",
      "\u001b[1;31mValueError\u001b[0m: Length of passed values is 31525, index implies 31527."
     ]
    }
   ],
   "source": [
    "# Trimming\n",
    "for i in outlier_pt:\n",
    "    a = np.delete(newdata['rain'] , np.where(newdata['rain']==i))\n",
    "print(a)"
   ]
  }
 ],
 "metadata": {
  "kernelspec": {
   "display_name": "Python 3",
   "language": "python",
   "name": "python3"
  },
  "language_info": {
   "codemirror_mode": {
    "name": "ipython",
    "version": 3
   },
   "file_extension": ".py",
   "mimetype": "text/x-python",
   "name": "python",
   "nbconvert_exporter": "python",
   "pygments_lexer": "ipython3",
   "version": "3.8.5"
  }
 },
 "nbformat": 4,
 "nbformat_minor": 4
}
